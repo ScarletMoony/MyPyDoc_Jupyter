{
 "cells": [
  {
   "cell_type": "code",
   "execution_count": 5,
   "metadata": {},
   "outputs": [
    {
     "name": "stdout",
     "output_type": "stream",
     "text": [
      "slsl\n"
     ]
    }
   ],
   "source": [
    "x = \"s\"\n",
    "y = \"l\"\n",
    "\n",
    "print(x + y + x + y) # Со строками можно проводить математические операции такие как сложение"
   ]
  },
  {
   "cell_type": "code",
   "execution_count": 6,
   "metadata": {},
   "outputs": [
    {
     "name": "stdout",
     "output_type": "stream",
     "text": [
      "sss\n"
     ]
    }
   ],
   "source": [
    "print(x * 3) # и умножение"
   ]
  },
  {
   "cell_type": "code",
   "execution_count": 7,
   "metadata": {},
   "outputs": [
    {
     "data": {
      "text/plain": [
       "3"
      ]
     },
     "execution_count": 7,
     "metadata": {},
     "output_type": "execute_result"
    }
   ],
   "source": [
    "len(x * 3) # len() показывает количество элементов"
   ]
  },
  {
   "cell_type": "code",
   "execution_count": 8,
   "metadata": {},
   "outputs": [
    {
     "name": "stdout",
     "output_type": "stream",
     "text": [
      "S R O\n"
     ]
    }
   ],
   "source": [
    "X = \"SOR\"\n",
    "\n",
    "print(X[0], X[2], X[-2]) # к строке можно обращатся по индексу"
   ]
  },
  {
   "cell_type": "code",
   "execution_count": 9,
   "metadata": {},
   "outputs": [
    {
     "name": "stdout",
     "output_type": "stream",
     "text": [
      "eh mehern somehe omehernya\n",
      "\n",
      " smhry\n",
      "\n",
      " aynrehemos\n"
     ]
    }
   ],
   "source": [
    "l = \"somehernya\"\n",
    "\n",
    "print(l[3:5], l[2:-2], l[:6], l[1:]) # также можно выводить только символы между указанными индексами\n",
    "\n",
    "print(\"\\n\", l[::2]) # тремий аргумент нужен для того чтобы пропускать каждый [::n] n-ый символ\n",
    "\n",
    "print(\"\\n\", l[::-1]) # так можно отразить строку"
   ]
  },
  {
   "cell_type": "code",
   "execution_count": 10,
   "metadata": {},
   "outputs": [
    {
     "name": "stdout",
     "output_type": "stream",
     "text": [
      "4\n"
     ]
    }
   ],
   "source": [
    "print(l.find(\"h\", 1, 5)) # l.find(str, [start], [end]) ищет первый(е) символ(ы) в строке от [start] до [end] \n",
    "# возвращает -1 если не найденно"
   ]
  },
  {
   "cell_type": "code",
   "execution_count": 11,
   "metadata": {},
   "outputs": [
    {
     "name": "stdout",
     "output_type": "stream",
     "text": [
      "5\n"
     ]
    }
   ],
   "source": [
    "print(l.rfind(\"e\", 1, 6))# l.rfind(str, [start], [end]) ищет последний(е) символ(ы) в строке от [start] до [end] \n",
    "# возвращает -1 если не найденно"
   ]
  },
  {
   "cell_type": "code",
   "execution_count": 12,
   "metadata": {},
   "outputs": [
    {
     "name": "stdout",
     "output_type": "stream",
     "text": [
      "4\n"
     ]
    }
   ],
   "source": [
    "print(l.index(\"h\", 1, 5)) # также как и в l.find но возвращает ValueError если не найденно"
   ]
  },
  {
   "cell_type": "code",
   "execution_count": 13,
   "metadata": {},
   "outputs": [
    {
     "name": "stdout",
     "output_type": "stream",
     "text": [
      "['RO', 'LO', 'T', 'TROLOLO']\n",
      "<class 'list'>\n",
      "LO\n"
     ]
    }
   ],
   "source": [
    "some = \"RO:LO:T:TROLOLO\"\n",
    "\n",
    "some_splited = some.split(\":\")\n",
    "\n",
    "print(some.split(\":\")) # разделяет строку по переданному символу\n",
    "\n",
    "print(type(some_splited))\n",
    "print(some_splited[1]) # строка становиться списком"
   ]
  },
  {
   "cell_type": "code",
   "execution_count": 14,
   "metadata": {},
   "outputs": [
    {
     "name": "stdout",
     "output_type": "stream",
     "text": [
      "True False\n"
     ]
    }
   ],
   "source": [
    "num = \"12345\"\n",
    "notnum = \"notnum\"\n",
    "\n",
    "print(num.isdigit(), notnum.isdigit()) # проверяет состоит ли строка только из чисел"
   ]
  },
  {
   "cell_type": "code",
   "execution_count": 15,
   "metadata": {},
   "outputs": [
    {
     "name": "stdout",
     "output_type": "stream",
     "text": [
      "False True\n"
     ]
    }
   ],
   "source": [
    "print(num.isalpha(), notnum.isalpha()) # проверяет состоит ли строка только из букв"
   ]
  },
  {
   "cell_type": "code",
   "execution_count": 16,
   "metadata": {},
   "outputs": [
    {
     "name": "stdout",
     "output_type": "stream",
     "text": [
      "True False\n"
     ]
    }
   ],
   "source": [
    "str_1 = \"no200\"\n",
    "str_2 = \"no:200\"\n",
    "\n",
    "print(str_1.isalnum(), str_2.isalnum()) # проверяет состоит ли строка из букв и цифр, без спец символов"
   ]
  },
  {
   "cell_type": "code",
   "execution_count": 17,
   "metadata": {},
   "outputs": [
    {
     "name": "stdout",
     "output_type": "stream",
     "text": [
      "False True\n",
      "True False\n"
     ]
    }
   ],
   "source": [
    "some_str = \"NONAME\"\n",
    "some_str_l = \"noname\"\n",
    "\n",
    "print(some_str.islower(), some_str_l.islower()) # проверяет все ли символы в верхнем регистре\n",
    "print(some_str.isupper(), some_str_l.isupper()) # проверяет все ли символы в нижнем регистре"
   ]
  },
  {
   "cell_type": "code",
   "execution_count": 18,
   "metadata": {},
   "outputs": [
    {
     "name": "stdout",
     "output_type": "stream",
     "text": [
      "True False\n"
     ]
    }
   ],
   "source": [
    "some_str = \"   \"\n",
    "some_str_e = \"\"\n",
    "\n",
    "print(some_str.isspace(), some_str_e.isspace()) # проверяет состоит ли строка только из пробелов"
   ]
  },
  {
   "cell_type": "code",
   "execution_count": 99,
   "metadata": {},
   "outputs": [
    {
     "name": "stdout",
     "output_type": "stream",
     "text": [
      "True False\n"
     ]
    }
   ],
   "source": [
    "some_str = \"Nomame Club\"\n",
    "some_str_nt = \"noname Club\"\n",
    "\n",
    "print(some_str.istitle(), some_str_nt.istitle()) # проверяет все ли слова в строке начинаются с верхнего регистра"
   ]
  },
  {
   "cell_type": "code",
   "execution_count": 20,
   "metadata": {},
   "outputs": [
    {
     "name": "stdout",
     "output_type": "stream",
     "text": [
      "NOMAME CLUB noname club\n"
     ]
    }
   ],
   "source": [
    "print(some_str.upper(), some_str_nt.lower()) # преобразовывает все символы строки в верхний \n",
    "# или нижний регистр соответственно"
   ]
  },
  {
   "cell_type": "code",
   "execution_count": 21,
   "metadata": {},
   "outputs": [
    {
     "name": "stdout",
     "output_type": "stream",
     "text": [
      "True True\n"
     ]
    }
   ],
   "source": [
    "print(some_str.startswith(\"No\"), some_str.endswith(\"ub\")) # проверяет начинаеться или заканчиваеться ли строка из \n",
    "# переданных символов соответственно"
   ]
  },
  {
   "cell_type": "code",
   "execution_count": 23,
   "metadata": {},
   "outputs": [
    {
     "name": "stdout",
     "output_type": "stream",
     "text": [
      "RO:LO:T:TROLOLO\n"
     ]
    }
   ],
   "source": [
    "s = \":\"\n",
    "\n",
    "print(s.join(some_splited)) # преобразует список в строку с разделителем (s)"
   ]
  },
  {
   "cell_type": "code",
   "execution_count": 34,
   "metadata": {},
   "outputs": [
    {
     "name": "stdout",
     "output_type": "stream",
     "text": [
      "65\n",
      "A\n"
     ]
    }
   ],
   "source": [
    "char = \"A\"\n",
    "\n",
    "print(ord(char)) #!!!(принимает только один аргумент) преобразует символ в unicode\n",
    "print(chr(65)) #!!!(принимает только один аргумент) преобразует unicode в символ"
   ]
  },
  {
   "cell_type": "code",
   "execution_count": 58,
   "metadata": {},
   "outputs": [
    {
     "name": "stdout",
     "output_type": "stream",
     "text": [
      "Noname club\n",
      "@@@@@@@@@@@@@@@@@@@@@@@@@@@@@@@@@@@@@@@@@@@@@noname Club@@@@@@@@@@@@@@@@@@@@@@@@@@@@@@@@@@@@@@@@@@@@@\n"
     ]
    }
   ],
   "source": [
    "print(some_str_nt.capitalize()) # Первый символ с большой все остальное с маленькой\n",
    "print(some_str_nt.center(101, \"@\")) # str.center(width, fill) центрирует строку, width указывает сколько симколов\n",
    " # помещается на экране, fill то чем заполнять пустоту, изначально это пробел !!!(fill принимает только один символ)"
   ]
  },
  {
   "cell_type": "code",
   "execution_count": 65,
   "metadata": {},
   "outputs": [
    {
     "name": "stdout",
     "output_type": "stream",
     "text": [
      "6\n"
     ]
    }
   ],
   "source": [
    "x = \"some some some lol lol lol\"\n",
    "\n",
    "print(x.count(\"l\", 0, 40)) # считает сколько раз символ или несколько символов(\"l\") встречаються в строке(x) c (0) по (40)\n",
    " # индекс"
   ]
  },
  {
   "cell_type": "code",
   "execution_count": 81,
   "metadata": {},
   "outputs": [
    {
     "name": "stdout",
     "output_type": "stream",
     "text": [
      "some some some lol\n"
     ]
    }
   ],
   "source": [
    "x = \"some\\tsome\\tsome\\tlol\"\n",
    "\n",
    "print(x.expandtabs(1)) # заменяет (\\t) символы табуляции на (1) пробел(ов)"
   ]
  },
  {
   "cell_type": "code",
   "execution_count": 93,
   "metadata": {},
   "outputs": [
    {
     "name": "stdout",
     "output_type": "stream",
     "text": [
      "some some lol |\n",
      " some some lol|\n",
      "some some lol|\n",
      "ome some lol \n"
     ]
    }
   ],
   "source": [
    "x = \" some some lol \"\n",
    "\n",
    "print(x.lstrip() + \"|\") # str.lstrip() удаляет пробел в начале строки\n",
    "print(x.rstrip() + \"|\") # str.rstrip() удаляет пробел в конце строки\n",
    "print(x.strip() + \"|\") # str.strip() удаляет пробел в начале и конце строки\n",
    "\n",
    "x = \"some some lol \"\n",
    "\n",
    "print(x.lstrip(\"s\")) # также можно указать символ вместо пробела и он в соответсвии с пробелом удалится"
   ]
  },
  {
   "cell_type": "code",
   "execution_count": 97,
   "metadata": {},
   "outputs": [
    {
     "name": "stdout",
     "output_type": "stream",
     "text": [
      "('Some ', 'some', ' some some somE')\n",
      "('Some some some ', 'some', ' somE')\n"
     ]
    }
   ],
   "source": [
    "x = \"Some some some some somE\"\n",
    "\n",
    "print(x.partition(\"some\")) # создвет кортеж из того что до(\"\"), в(\"\") первое найденное соответствие и после(\"\")\n",
    "print(x.rpartition(\"some\")) # создвет кортеж из того что до(\"\"), в(\"\") последнее найденное соответствие и после(\"\") "
   ]
  },
  {
   "cell_type": "code",
   "execution_count": 98,
   "metadata": {},
   "outputs": [
    {
     "name": "stdout",
     "output_type": "stream",
     "text": [
      "Some some somE\n"
     ]
    }
   ],
   "source": [
    "x = \"sOME SOME SOMe\"\n",
    "\n",
    "print(x.swapcase()) # меняет местами регистры символов"
   ]
  },
  {
   "cell_type": "code",
   "execution_count": 102,
   "metadata": {},
   "outputs": [
    {
     "name": "stdout",
     "output_type": "stream",
     "text": [
      "Some Some Some\n"
     ]
    }
   ],
   "source": [
    "x = \"some some some\"\n",
    "\n",
    "print(x.title()) # прееводит первый символ каждого слова в верхний регистр"
   ]
  },
  {
   "cell_type": "code",
   "execution_count": 112,
   "metadata": {},
   "outputs": [
    {
     "name": "stdout",
     "output_type": "stream",
     "text": [
      "000000000000000000000000000000000000000000000000000000000000000000000000000000000000000000000000some\n",
      "some@@@@@@@@@@@@@@@@@@@@@@@@@@@@@@@@@@@@@@@@@@@@@@@@@@@@@@@@@@@@@@@@@@@@@@@@@@@@@@@@@@@@@@@@@@@@@@@@\n",
      "                                                                                                some\n"
     ]
    }
   ],
   "source": [
    "x = \"some\"\n",
    "\n",
    "print(x.zfill(100)) # str.zfill() устанавливает минимальную длину строки пустоту заполняет нулями\n",
    "print(x.ljust(100, \"@\")) # str.ljust() устанавливает минимальную длину строки пустоту справа заполняет вторым переданным\n",
    "print(x.rjust(100)) # str.rjust() устанавливает минимальную длину строки пустоту слева заполняет вторым переданным \n",
    " # по стандарту пробел, как и в str.ljust()"
   ]
  }
 ],
 "metadata": {
  "kernelspec": {
   "display_name": "Python 3",
   "language": "python",
   "name": "python3"
  },
  "language_info": {
   "codemirror_mode": {
    "name": "ipython",
    "version": 3
   },
   "file_extension": ".py",
   "mimetype": "text/x-python",
   "name": "python",
   "nbconvert_exporter": "python",
   "pygments_lexer": "ipython3",
   "version": "3.8.5"
  }
 },
 "nbformat": 4,
 "nbformat_minor": 4
}
