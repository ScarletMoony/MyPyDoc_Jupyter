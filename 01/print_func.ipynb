{
 "cells": [
  {
   "cell_type": "code",
   "execution_count": 14,
   "metadata": {},
   "outputs": [
    {
     "name": "stdout",
     "output_type": "stream",
     "text": [
      "Hi\n",
      "Hi\n",
      "1\n",
      "Hi 1\n"
     ]
    }
   ],
   "source": [
    "x = \"Hi\"\n",
    "\n",
    "y = 1\n",
    "\n",
    "# Функция print() используеться для вызова __str__ у обьекта (если проще то\n",
    "# выводит текст)\n",
    "\n",
    "print(x) # Можно передавать как аргументы\n",
    "\n",
    "print(\"Hi\") # Так и строки\n",
    "\n",
    "print(y) # Любой переданый или аргумент будет принудительно\n",
    "# сконвертирован в srt\n",
    "\n",
    "print(x, y) # Может принимать несколько аргументов"
   ]
  },
  {
   "cell_type": "code",
   "execution_count": 15,
   "metadata": {},
   "outputs": [
    {
     "name": "stdout",
     "output_type": "stream",
     "text": [
      "ass\n",
      "\n",
      "\n",
      "a00000000s\n"
     ]
    }
   ],
   "source": [
    "x = \"s\"\n",
    "\n",
    "print(\"a\", x, sep='s', end='\\n\\n\\n') # sep='' в функции print отвечает за\n",
    "\n",
    "# разделитель между аргументами \n",
    "\n",
    "# end='' отвечает за то, что будет в конце вывода\n",
    "\n",
    "print(\"a\", x, sep='00000000')"
   ]
  },
  {
   "cell_type": "code",
   "execution_count": 16,
   "metadata": {},
   "outputs": [
    {
     "name": "stdout",
     "output_type": "stream",
     "text": [
      "Cool right?\n",
      "\n"
     ]
    }
   ],
   "source": [
    "doc = open('pyth.txt', 'w')\n",
    "\n",
    "print(\"Cool right?\", file = doc) # (file = ) записывает строку или значение\n",
    "\n",
    "# переданного аргумента в файл который мы укажем\n",
    "\n",
    "doc.close()\n",
    "\n",
    "docr = open('pyth.txt', 'r')\n",
    "\n",
    "print(docr.readline())\n",
    "\n",
    "docr.close()"
   ]
  }
 ],
 "metadata": {
  "kernelspec": {
   "display_name": "Python 3",
   "language": "python",
   "name": "python3"
  },
  "language_info": {
   "codemirror_mode": {
    "name": "ipython",
    "version": 3
   },
   "file_extension": ".py",
   "mimetype": "text/x-python",
   "name": "python",
   "nbconvert_exporter": "python",
   "pygments_lexer": "ipython3",
   "version": "3.8.5"
  }
 },
 "nbformat": 4,
 "nbformat_minor": 4
}
