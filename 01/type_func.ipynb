{
 "cells": [
  {
   "cell_type": "code",
   "execution_count": 14,
   "metadata": {
    "scrolled": true
   },
   "outputs": [
    {
     "name": "stdout",
     "output_type": "stream",
     "text": [
      "1\n",
      "<class 'type'>\n",
      "<class 'int'>\n",
      "<class 'type'>\n",
      "<class '__main__.Sel'>\n",
      "<class 'str'>\n",
      "<class 'float'>\n",
      "9\n",
      "<class 'int'>\n",
      "<class 'function'>\n"
     ]
    }
   ],
   "source": [
    "class Sel:\n",
    "    x = 1\n",
    "    \n",
    "selo = Sel\n",
    "print(selo.x)\n",
    "print(type(selo)) # Функця type() используеться для вызова __class__ у обьекта или аргумента (проще говоря показывает тип\n",
    "# обьекта или аргумента)\n",
    "print(type(selo.x)) # Здесь мы передаем переменную класа и видим что ее тип int\n",
    "print(type(Sel))\n",
    "print(type(Sel())) # Еще можно увидеть откуда этот класс\n",
    "\n",
    "x = \"sol\"\n",
    "\n",
    "print(type(x)) # также и с str\n",
    "\n",
    "x = 1.2\n",
    "\n",
    "print(type(x)) # и с float\n",
    "\n",
    "def Sili(y):\n",
    "    return y*y\n",
    "\n",
    "x = Sili(3)\n",
    "\n",
    "print(x)\n",
    "\n",
    "print(type(x))\n",
    "print(type(Sili)) # Здесь мы убеждаемся что Sili() это функция"
   ]
  }
 ],
 "metadata": {
  "kernelspec": {
   "display_name": "Python 3",
   "language": "python",
   "name": "python3"
  },
  "language_info": {
   "codemirror_mode": {
    "name": "ipython",
    "version": 3
   },
   "file_extension": ".py",
   "mimetype": "text/x-python",
   "name": "python",
   "nbconvert_exporter": "python",
   "pygments_lexer": "ipython3",
   "version": "3.8.5"
  }
 },
 "nbformat": 4,
 "nbformat_minor": 4
}
