{
 "cells": [
  {
   "cell_type": "code",
   "execution_count": 20,
   "metadata": {},
   "outputs": [
    {
     "name": "stdout",
     "output_type": "stream",
     "text": [
      "b''\n"
     ]
    }
   ],
   "source": [
    "with open('C:\\\\Users\\\\Al\\\\Pictures\\\\wp\\\\RoSpearKnight.png', \"rb\") as pic_file:\n",
    "    pic_file_b = pic_file.read()\n",
    "\n",
    "with open('Some.hfasdf', \"wb\") as pic_file:\n",
    "    pic_file.write(pic_file_b)\n",
    "    \n",
    "with open('Some.hfasdf', \"rb\") as pic_file:\n",
    "    pic_file_b_mine = pic_file.read()\n",
    "    \n",
    "with open('Some.png', \"wb\") as pic_file:\n",
    "    pic_file.write(pic_file_b_mine)\n",
    "    "
   ]
  }
 ],
 "metadata": {
  "kernelspec": {
   "display_name": "Python 3",
   "language": "python",
   "name": "python3"
  },
  "language_info": {
   "codemirror_mode": {
    "name": "ipython",
    "version": 3
   },
   "file_extension": ".py",
   "mimetype": "text/x-python",
   "name": "python",
   "nbconvert_exporter": "python",
   "pygments_lexer": "ipython3",
   "version": "3.8.5"
  }
 },
 "nbformat": 4,
 "nbformat_minor": 4
}
