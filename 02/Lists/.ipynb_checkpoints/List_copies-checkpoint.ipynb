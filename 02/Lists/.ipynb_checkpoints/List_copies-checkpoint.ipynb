{
 "cells": [
  {
   "cell_type": "code",
   "execution_count": 7,
   "metadata": {
    "scrolled": true
   },
   "outputs": [
    {
     "name": "stdout",
     "output_type": "stream",
     "text": [
      "[1, 2, 3, [1, 2, 3]]\n",
      "[1, 2, 3, [1, 2, 3]]\n",
      "[1, 2, 3, [1, 2, 3, 5]]\n",
      "[1, 2, 3, [1, 2, 3, 5], 9]\n",
      "[1, 2, 3, [1, 2, 3, 5]]\n",
      "[1, 2, 3, [1, 2, 3, 5]]\n",
      "[1, 2, 3, [1, 2, 3, 5, 7], 9]\n"
     ]
    }
   ],
   "source": [
    "import copy # этот модуль позволяет использовать deepcopy\n",
    "\n",
    "list1 = [1, 2, 3, [1, 2, 3]]\n",
    "shallow_copy = list1.copy() # это создание пустой копии, она лишь является ссылкой на оригинал, а не отдельным списком,\n",
    " # изза чего если изменять подсписки в копии, то они будут менятся и в оригинале\n",
    "\n",
    "print(list1)\n",
    "print(shallow_copy)\n",
    "\n",
    "shallow_copy[3].append(5)\n",
    "shallow_copy.append(9)\n",
    "\n",
    "print(list1)\n",
    "print(shallow_copy) # здесь мы видим что изменился и оригинал и копия\n",
    "\n",
    "deep_copy = copy.deepcopy(list1) # это создание глубокой копии, которая являеться отдельным списком\n",
    "\n",
    "print(deep_copy)\n",
    "\n",
    "deep_copy.append(9)\n",
    "deep_copy[3].append(7)\n",
    "\n",
    "print(list1)\n",
    "print(deep_copy) # здесь мы видим что изменилась только копия"
   ]
  }
 ],
 "metadata": {
  "kernelspec": {
   "display_name": "Python 3",
   "language": "python",
   "name": "python3"
  },
  "language_info": {
   "codemirror_mode": {
    "name": "ipython",
    "version": 3
   },
   "file_extension": ".py",
   "mimetype": "text/x-python",
   "name": "python",
   "nbconvert_exporter": "python",
   "pygments_lexer": "ipython3",
   "version": "3.8.5"
  }
 },
 "nbformat": 4,
 "nbformat_minor": 4
}
