{
 "cells": [
  {
   "cell_type": "code",
   "execution_count": 32,
   "metadata": {},
   "outputs": [
    {
     "name": "stdout",
     "output_type": "stream",
     "text": [
      "{1, 2, 3}\n"
     ]
    }
   ],
   "source": [
    "set1 = set() # Это базовый способ создать множество\n",
    "\n",
    "set1 = {1, 2, 3} # Это второй способ\n",
    "\n",
    "print(set1)"
   ]
  },
  {
   "cell_type": "code",
   "execution_count": 33,
   "metadata": {},
   "outputs": [
    {
     "name": "stdout",
     "output_type": "stream",
     "text": [
      "{1, 2, 3, 5}\n",
      "{1, 2, 3, 5}\n"
     ]
    }
   ],
   "source": [
    "set1.add(5) # так можно добавить элемент в множество\n",
    "\n",
    "print(set1)\n",
    "\n",
    "set1.add(1)\n",
    "\n",
    "print(set1) # все элементы в множестве уникальны и не могут повторятся"
   ]
  },
  {
   "cell_type": "code",
   "execution_count": 13,
   "metadata": {},
   "outputs": [
    {
     "name": "stdout",
     "output_type": "stream",
     "text": [
      "{1, 2, 3}\n"
     ]
    }
   ],
   "source": [
    "list1 = [1, 2, 3, 1, 1, 1, 2, 2, 2]\n",
    "\n",
    "set_from_list = set(list1) # так можно перевести список в множество\n",
    "\n",
    "print(set_from_list)"
   ]
  },
  {
   "cell_type": "code",
   "execution_count": 27,
   "metadata": {},
   "outputs": [
    {
     "name": "stdout",
     "output_type": "stream",
     "text": [
      "{'a', 'd', 'r', 'b', 'c'}\n",
      "{'d', 'r', 'b'}\n",
      "{'a', 'm', 'z', 'd', 'r', 'b', 'l', 'c'}\n",
      "{'a', 'c'}\n",
      "{'d', 'r', 'b', 'l', 'm', 'z'}\n"
     ]
    }
   ],
   "source": [
    "word_set = set('abracadabra')\n",
    "\n",
    "word_set1 = set('alcazam')\n",
    "\n",
    "print(word_set) # можно даже строку перевести в множество\n",
    "\n",
    "             # !!!  Все ниже это операции над множествами\n",
    "    \n",
    "print(word_set - word_set1) # все элементы из word_set которых нет в word_set1\n",
    "\n",
    "print(word_set | word_set1) # все элементы из множеств\n",
    "\n",
    "print(word_set & word_set1) # все общие элементы\n",
    "\n",
    "print(word_set ^ word_set1) # все элементы кроме обших"
   ]
  },
  {
   "cell_type": "code",
   "execution_count": 28,
   "metadata": {},
   "outputs": [
    {
     "name": "stdout",
     "output_type": "stream",
     "text": [
      "{'d', 'r'}\n"
     ]
    }
   ],
   "source": [
    "set_comprehension = {x for x in \"abracadabra\" if x not in \"abc\"} # также как и list_comprehension есть и в множествах\n",
    "\n",
    "print(set_comprehension)"
   ]
  }
 ],
 "metadata": {
  "kernelspec": {
   "display_name": "Python 3",
   "language": "python",
   "name": "python3"
  },
  "language_info": {
   "codemirror_mode": {
    "name": "ipython",
    "version": 3
   },
   "file_extension": ".py",
   "mimetype": "text/x-python",
   "name": "python",
   "nbconvert_exporter": "python",
   "pygments_lexer": "ipython3",
   "version": "3.8.5"
  }
 },
 "nbformat": 4,
 "nbformat_minor": 4
}
