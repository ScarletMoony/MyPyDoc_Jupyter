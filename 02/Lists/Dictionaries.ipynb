{
 "cells": [
  {
   "cell_type": "code",
   "execution_count": 9,
   "metadata": {},
   "outputs": [
    {
     "name": "stdout",
     "output_type": "stream",
     "text": [
      "{'selling': 22, 'products': 29, 'sold': 7}\n"
     ]
    }
   ],
   "source": [
    "dict1 = {'selling' : 22, 'products' : 29, 'sold' : 7} # так можно создать словарь\n",
    "\n",
    "dict1 = dict(selling=22, products=29, sold=7) # второй способ\n",
    "\n",
    "print(dict1)\n"
   ]
  },
  {
   "cell_type": "code",
   "execution_count": 11,
   "metadata": {},
   "outputs": [
    {
     "name": "stdout",
     "output_type": "stream",
     "text": [
      "We are currently selling 22 products\n",
      "We are currently selling 22 products\n"
     ]
    }
   ],
   "source": [
    "selling = dict1['selling'] # так можно получить значение ключа\n",
    "\n",
    "print(f'We are currently selling {selling} products')\n",
    "\n",
    "selling2 = dict1.get('selling') # второй способ\n",
    "\n",
    "print(f'We are currently selling {selling2} products')"
   ]
  },
  {
   "cell_type": "code",
   "execution_count": 12,
   "metadata": {},
   "outputs": [
    {
     "name": "stdout",
     "output_type": "stream",
     "text": [
      "{'selling': 22, 'products': 29, 'sold': 7, 'ordered': 4}\n"
     ]
    }
   ],
   "source": [
    "dict1['ordered'] = 4 # так можно добавить новую пару\n",
    "\n",
    "print(dict1)"
   ]
  },
  {
   "cell_type": "code",
   "execution_count": 18,
   "metadata": {},
   "outputs": [
    {
     "name": "stdout",
     "output_type": "stream",
     "text": [
      "dict_keys(['selling', 'products', 'sold', 'ordered'])\n",
      "dict_values([22, 29, 7, 4])\n",
      "['selling', 'products', 'sold', 'ordered']\n",
      "[22, 29, 7, 4]\n"
     ]
    }
   ],
   "source": [
    "print(dict1.keys()) # так можно просмотреть все ключи словаря\n",
    "print(dict1.values()) # так можно просмотреть все значения словаря\n",
    "print(list(dict1.keys())) # а так их можно просмотреть в виде списка\n",
    "print(list(dict1.values()))"
   ]
  },
  {
   "cell_type": "code",
   "execution_count": 24,
   "metadata": {},
   "outputs": [
    {
     "data": {
      "text/plain": [
       "[4, 7, 22, 29]"
      ]
     },
     "execution_count": 24,
     "metadata": {},
     "output_type": "execute_result"
    }
   ],
   "source": [
    "sorted(list(dict1.values())) # так можно отсортировать словарь "
   ]
  },
  {
   "cell_type": "code",
   "execution_count": 25,
   "metadata": {},
   "outputs": [
    {
     "name": "stdout",
     "output_type": "stream",
     "text": [
      "dict_items([('selling', 22), ('products', 29), ('sold', 7), ('ordered', 4)])\n"
     ]
    }
   ],
   "source": [
    "print(dict1.items()) # так можно просмотреть все пары"
   ]
  },
  {
   "cell_type": "code",
   "execution_count": 23,
   "metadata": {},
   "outputs": [
    {
     "name": "stdout",
     "output_type": "stream",
     "text": [
      "selling: 22\n",
      "products: 29\n",
      "sold: 7\n",
      "ordered: 4\n"
     ]
    }
   ],
   "source": [
    "for k, v in dict1.items(): # так перебирается словарь\n",
    "    print(f'{k}: {v}')"
   ]
  },
  {
   "cell_type": "code",
   "execution_count": 28,
   "metadata": {},
   "outputs": [
    {
     "name": "stdout",
     "output_type": "stream",
     "text": [
      "{'selling': 22, 'products': 29, 'sold': 7, 'ordered': 4, 'returned': None}\n"
     ]
    }
   ],
   "source": [
    "dict1.setdefault('returned') # так можно создать пару значение : None\n",
    "print(dict1)"
   ]
  },
  {
   "cell_type": "code",
   "execution_count": 30,
   "metadata": {},
   "outputs": [
    {
     "name": "stdout",
     "output_type": "stream",
     "text": [
      "{'selling': 21, 'products': 29, 'sold': 8, 'ordered': 4, 'returned': None}\n"
     ]
    }
   ],
   "source": [
    "dict1.update(selling=21, sold=8) # так можно обновлять значения пар\n",
    "\n",
    "print(dict1)"
   ]
  },
  {
   "cell_type": "code",
   "execution_count": 35,
   "metadata": {},
   "outputs": [],
   "source": [
    "# !!!!!!!!!!!!!!!!!!!!!!!!!!!Не Работает раньше версии python 3.9!!!!!!!!!!!!!!!!!!!!!!!!!!!!!!!!!!!!!\n",
    "\n",
    "# dict2 = dict(visitors=62) \n",
    "# print(dict2)\n",
    "\n",
    "# dict2 |= dict1 # так мы обьединяем два словаря в dict1\n",
    "# dict2 | dict1 # это возвращает обьеденненый словарь как новый\n",
    "\n",
    "# print(dict1)"
   ]
  }
 ],
 "metadata": {
  "kernelspec": {
   "display_name": "Python 3",
   "language": "python",
   "name": "python3"
  },
  "language_info": {
   "codemirror_mode": {
    "name": "ipython",
    "version": 3
   },
   "file_extension": ".py",
   "mimetype": "text/x-python",
   "name": "python",
   "nbconvert_exporter": "python",
   "pygments_lexer": "ipython3",
   "version": "3.8.5"
  }
 },
 "nbformat": 4,
 "nbformat_minor": 4
}
