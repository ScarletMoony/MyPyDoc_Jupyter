{
 "cells": [
  {
   "cell_type": "code",
   "execution_count": 82,
   "metadata": {},
   "outputs": [
    {
     "name": "stdout",
     "output_type": "stream",
     "text": [
      "[1, 2, 3]\n",
      "[1, 2.3, 'accuracy']\n"
     ]
    }
   ],
   "source": [
    "list1 = [1, 2, 3] # обычный список\n",
    "list_mixed = [1, 2.3, 'accuracy'] # в списке можно использовать элементы разного типа\n",
    "\n",
    "print(list1)\n",
    "print(list_mixed)"
   ]
  },
  {
   "cell_type": "code",
   "execution_count": 83,
   "metadata": {},
   "outputs": [
    {
     "name": "stdout",
     "output_type": "stream",
     "text": [
      "[1, 2, 3, 4]\n",
      "[200, 2, 3, 4]\n"
     ]
    }
   ],
   "source": [
    "list_c = [1, 2, 3, 4]\n",
    "\n",
    "print(list_c)\n",
    "\n",
    "list_c[0] = 200 # значения в списке можно переназначить\n",
    "\n",
    "print(list_c)"
   ]
  },
  {
   "cell_type": "code",
   "execution_count": 52,
   "metadata": {},
   "outputs": [
    {
     "name": "stdout",
     "output_type": "stream",
     "text": [
      "3\n",
      "1\n",
      "accuracy\n"
     ]
    }
   ],
   "source": [
    "print(len(list1)) # в списках можно использовать некоторые стандартные функции, len() возвращает количество элементов\n",
    "print(list_mixed[0]) # можно выбрать только один, а не все элементы, счет ведется с 0, а не с 1\n",
    "print(list_mixed[-1]) # так можно обратится к последнему элементу"
   ]
  },
  {
   "cell_type": "code",
   "execution_count": 53,
   "metadata": {},
   "outputs": [
    {
     "name": "stdout",
     "output_type": "stream",
     "text": [
      "[2.3, 'accuracy']\n",
      "[4, 5, 6, 7]\n",
      "[1, 3, 5, 7]\n",
      "[8, 6, 4, 2]\n"
     ]
    }
   ],
   "source": [
    "print(list_mixed[1:]) # передает все с первого индекса включительно\n",
    "\n",
    "some_list1 = [1, 2, 3, 4, 5, 6, 7, 8]\n",
    "\n",
    "print(some_list1[3:7]) # с 3 по 7 индекс\n",
    "print(some_list1[::2]) # прердает все пропуская каждый второй элемент\n",
    "print(some_list1[::-2]) # тоже что и предидущий но выводит список в обратном порядке"
   ]
  },
  {
   "cell_type": "code",
   "execution_count": 85,
   "metadata": {},
   "outputs": [
    {
     "name": "stdout",
     "output_type": "stream",
     "text": [
      "['Alex', 'Omelianenko', 'Frederic', 'Shopen']\n",
      "Alex\n"
     ]
    }
   ],
   "source": [
    "name1 = ['Alex', 'Omelianenko']\n",
    "name2 = ['Frederic', 'Shopen']\n",
    "\n",
    "print(name1 + name2) # так можно обьеденить два списка в один\n",
    "print(name1[0])"
   ]
  },
  {
   "cell_type": "code",
   "execution_count": 55,
   "metadata": {},
   "outputs": [
    {
     "name": "stdout",
     "output_type": "stream",
     "text": [
      "['Alex', 'Omelianenko', 'Sorca']\n"
     ]
    }
   ],
   "source": [
    "name1.append('Sorca') # добавляет элемент в конец списка\n",
    "print(name1)"
   ]
  },
  {
   "cell_type": "code",
   "execution_count": 56,
   "metadata": {},
   "outputs": [
    {
     "name": "stdout",
     "output_type": "stream",
     "text": [
      "['Alex', 'Omelianenko']\n",
      "['Alex']\n"
     ]
    }
   ],
   "source": [
    "name1.pop() #\n",
    "print(name1)\n",
    "name1.pop(1) #\n",
    "print(name1)"
   ]
  },
  {
   "cell_type": "code",
   "execution_count": 57,
   "metadata": {},
   "outputs": [
    {
     "name": "stdout",
     "output_type": "stream",
     "text": [
      "['a', 'c', 'b', 'absent']\n",
      "['a', 'absent', 'b', 'c']\n"
     ]
    }
   ],
   "source": [
    "letters = ['a', 'c', 'b', 'absent']\n",
    "print(letters)\n",
    "letters.sort() # сортирует список\n",
    "print(letters)"
   ]
  },
  {
   "cell_type": "code",
   "execution_count": 79,
   "metadata": {},
   "outputs": [
    {
     "name": "stdout",
     "output_type": "stream",
     "text": [
      "['os', 'avva', 'corabli']\n",
      "['corabli', 'avva', 'os']\n",
      "['corabli', 'avva', 'os', 10]\n"
     ]
    },
    {
     "ename": "TypeError",
     "evalue": "'<' not supported between instances of 'int' and 'str'",
     "output_type": "error",
     "traceback": [
      "\u001b[1;31m---------------------------------------------------------------------------\u001b[0m",
      "\u001b[1;31mTypeError\u001b[0m                                 Traceback (most recent call last)",
      "\u001b[1;32m<ipython-input-79-ad67c4808c0d>\u001b[0m in \u001b[0;36m<module>\u001b[1;34m\u001b[0m\n\u001b[0;32m      6\u001b[0m \u001b[0mletters1\u001b[0m\u001b[1;33m.\u001b[0m\u001b[0mappend\u001b[0m\u001b[1;33m(\u001b[0m\u001b[1;36m10\u001b[0m\u001b[1;33m)\u001b[0m\u001b[1;33m\u001b[0m\u001b[1;33m\u001b[0m\u001b[0m\n\u001b[0;32m      7\u001b[0m \u001b[0mprint\u001b[0m\u001b[1;33m(\u001b[0m\u001b[0mletters1\u001b[0m\u001b[1;33m)\u001b[0m\u001b[1;33m\u001b[0m\u001b[1;33m\u001b[0m\u001b[0m\n\u001b[1;32m----> 8\u001b[1;33m \u001b[0mletters1\u001b[0m\u001b[1;33m.\u001b[0m\u001b[0msort\u001b[0m\u001b[1;33m(\u001b[0m\u001b[1;33m)\u001b[0m\u001b[1;33m\u001b[0m\u001b[1;33m\u001b[0m\u001b[0m\n\u001b[0m",
      "\u001b[1;31mTypeError\u001b[0m: '<' not supported between instances of 'int' and 'str'"
     ]
    }
   ],
   "source": [
    "letters1 = ['avva', 'os', 'corabli']\n",
    "letters1.sort(key=len) # в key() можно передать по чему сортировать список, например по len()\n",
    "print(letters1)\n",
    "letters1.sort(key=len, reverse=True) # reverse = true сортирует список в обратном порядке\n",
    "print(letters1)\n",
    "letters1.append(10)\n",
    "print(letters1)\n",
    "letters1.sort() # нельзя сортировать список с разными типами"
   ]
  },
  {
   "cell_type": "code",
   "execution_count": 59,
   "metadata": {},
   "outputs": [
    {
     "name": "stdout",
     "output_type": "stream",
     "text": [
      "[1, 2, 5, 6, 76, 77]\n",
      "[77, 76, 6, 5, 2, 1]\n"
     ]
    }
   ],
   "source": [
    "nums = [1, 5, 2, 6, 76, 77]\n",
    "nums.sort()\n",
    "print(nums)\n",
    "nums.reverse()\n",
    "print(nums)"
   ]
  },
  {
   "cell_type": "code",
   "execution_count": 60,
   "metadata": {},
   "outputs": [
    {
     "name": "stdout",
     "output_type": "stream",
     "text": [
      "[77, 15, 76, 6, 5, 2, 1]\n"
     ]
    }
   ],
   "source": [
    "nums.insert(1, 15) # list.insert(x, y) добавляет элемент y по индексу x \n",
    "print(nums)"
   ]
  },
  {
   "cell_type": "code",
   "execution_count": 61,
   "metadata": {},
   "outputs": [
    {
     "name": "stdout",
     "output_type": "stream",
     "text": [
      "6\n"
     ]
    },
    {
     "ename": "ValueError",
     "evalue": "1 is not in list",
     "output_type": "error",
     "traceback": [
      "\u001b[1;31m---------------------------------------------------------------------------\u001b[0m",
      "\u001b[1;31mValueError\u001b[0m                                Traceback (most recent call last)",
      "\u001b[1;32m<ipython-input-61-0ce4e4f0d5b1>\u001b[0m in \u001b[0;36m<module>\u001b[1;34m\u001b[0m\n\u001b[0;32m      1\u001b[0m \u001b[0mprint\u001b[0m\u001b[1;33m(\u001b[0m\u001b[0mnums\u001b[0m\u001b[1;33m.\u001b[0m\u001b[0mindex\u001b[0m\u001b[1;33m(\u001b[0m\u001b[1;36m1\u001b[0m\u001b[1;33m)\u001b[0m\u001b[1;33m)\u001b[0m\u001b[1;33m\u001b[0m\u001b[1;33m\u001b[0m\u001b[0m\n\u001b[1;32m----> 2\u001b[1;33m \u001b[0mnums\u001b[0m\u001b[1;33m.\u001b[0m\u001b[0mindex\u001b[0m\u001b[1;33m(\u001b[0m\u001b[1;36m1\u001b[0m\u001b[1;33m,\u001b[0m \u001b[1;36m0\u001b[0m\u001b[1;33m,\u001b[0m \u001b[1;36m5\u001b[0m\u001b[1;33m)\u001b[0m\u001b[1;33m\u001b[0m\u001b[1;33m\u001b[0m\u001b[0m\n\u001b[0m",
      "\u001b[1;31mValueError\u001b[0m: 1 is not in list"
     ]
    }
   ],
   "source": [
    "print(nums.index(1)) # возвращает индекс переданного элемента \n",
    "nums.index(1, 0, 5) # если элемент не найден, поднимает ValueError"
   ]
  },
  {
   "cell_type": "code",
   "execution_count": 62,
   "metadata": {},
   "outputs": [
    {
     "name": "stdout",
     "output_type": "stream",
     "text": [
      "[77, 15, 76, 6, 5, 2, 1, 2]\n",
      "2\n"
     ]
    }
   ],
   "source": [
    "nums.append(2)\n",
    "print(nums)\n",
    "print(nums.count(2)) # list.count(x) возврацает сколько элементов x в списке"
   ]
  },
  {
   "cell_type": "code",
   "execution_count": 63,
   "metadata": {},
   "outputs": [
    {
     "name": "stdout",
     "output_type": "stream",
     "text": [
      "[77, 15, 76, 6, 5, 2, 1, 2]\n"
     ]
    }
   ],
   "source": [
    "copy_nums = nums.copy() # создает shallow copy списка(oбьяснение в файле List_copies)\n",
    "print(copy_nums) "
   ]
  },
  {
   "cell_type": "code",
   "execution_count": 64,
   "metadata": {
    "scrolled": true
   },
   "outputs": [
    {
     "name": "stdout",
     "output_type": "stream",
     "text": [
      "[]\n"
     ]
    }
   ],
   "source": [
    "nums.clear() # полностью очищает список\n",
    "print(nums)"
   ]
  },
  {
   "cell_type": "code",
   "execution_count": 67,
   "metadata": {},
   "outputs": [
    {
     "name": "stdout",
     "output_type": "stream",
     "text": [
      "['S', 'o', 'm', 'e', ' ', 'w', 'o', 'r', 'd', 's']\n"
     ]
    }
   ],
   "source": [
    "words = \"Some words\"\n",
    "\n",
    "chars = []\n",
    "\n",
    "for i in words:\n",
    "    chars.append(i)\n",
    "\n",
    "print(chars) # так каждий символ строки можно превратить в элемент списка"
   ]
  },
  {
   "cell_type": "code",
   "execution_count": 69,
   "metadata": {},
   "outputs": [
    {
     "name": "stdout",
     "output_type": "stream",
     "text": [
      "['S', 'o', 'm', 'e', ' ', 'w', 'o', 'r', 'd', 's']\n"
     ]
    }
   ],
   "source": [
    "chars = [i for i in words]\n",
    "print(chars)"
   ]
  },
  {
   "cell_type": "code",
   "execution_count": 72,
   "metadata": {},
   "outputs": [
    {
     "name": "stdout",
     "output_type": "stream",
     "text": [
      "[0, 1, 4, 9, 16, 25, 36, 49, 64, 81, 100, 121, 144, 169, 196, 225, 256, 289, 324, 361]\n"
     ]
    }
   ],
   "source": [
    "nums1 = [n*n for n in range(0, 20)] # это пример list comprehension, с его помощью можно использовать цикл for и условия if\n",
    " # для созданния списка\n",
    "\n",
    "print(nums1)"
   ]
  },
  {
   "cell_type": "code",
   "execution_count": 77,
   "metadata": {},
   "outputs": [
    {
     "name": "stdout",
     "output_type": "stream",
     "text": [
      "['selawi', 'seasame']\n",
      "['selawi', 'seasame', 'salami', 'sweater']\n"
     ]
    }
   ],
   "source": [
    "some_iter = ['selawi', 'seasame']\n",
    "some_iter1 = ['salami', 'sweater']\n",
    "print(some_iter)\n",
    "\n",
    "some_iter.extend(some_iter1) # расширяет список другим списком\n",
    "\n",
    "print(some_iter)"
   ]
  },
  {
   "cell_type": "code",
   "execution_count": 78,
   "metadata": {},
   "outputs": [
    {
     "name": "stdout",
     "output_type": "stream",
     "text": [
      "['selawi', 'seasame', 'sweater']\n"
     ]
    },
    {
     "ename": "ValueError",
     "evalue": "list.remove(x): x not in list",
     "output_type": "error",
     "traceback": [
      "\u001b[1;31m---------------------------------------------------------------------------\u001b[0m",
      "\u001b[1;31mValueError\u001b[0m                                Traceback (most recent call last)",
      "\u001b[1;32m<ipython-input-78-b82ea94dcbb9>\u001b[0m in \u001b[0;36m<module>\u001b[1;34m\u001b[0m\n\u001b[0;32m      1\u001b[0m \u001b[0msome_iter\u001b[0m\u001b[1;33m.\u001b[0m\u001b[0mremove\u001b[0m\u001b[1;33m(\u001b[0m\u001b[1;34m'salami'\u001b[0m\u001b[1;33m)\u001b[0m\u001b[1;33m\u001b[0m\u001b[1;33m\u001b[0m\u001b[0m\n\u001b[0;32m      2\u001b[0m \u001b[0mprint\u001b[0m\u001b[1;33m(\u001b[0m\u001b[0msome_iter\u001b[0m\u001b[1;33m)\u001b[0m\u001b[1;33m\u001b[0m\u001b[1;33m\u001b[0m\u001b[0m\n\u001b[1;32m----> 3\u001b[1;33m \u001b[0msome_iter\u001b[0m\u001b[1;33m.\u001b[0m\u001b[0mremove\u001b[0m\u001b[1;33m(\u001b[0m\u001b[1;34m'cinema'\u001b[0m\u001b[1;33m)\u001b[0m\u001b[1;33m\u001b[0m\u001b[1;33m\u001b[0m\u001b[0m\n\u001b[0m\u001b[0;32m      4\u001b[0m \u001b[0mprint\u001b[0m\u001b[1;33m(\u001b[0m\u001b[0msome_iter\u001b[0m\u001b[1;33m)\u001b[0m\u001b[1;33m\u001b[0m\u001b[1;33m\u001b[0m\u001b[0m\n",
      "\u001b[1;31mValueError\u001b[0m: list.remove(x): x not in list"
     ]
    }
   ],
   "source": [
    "some_iter.remove('salami') # так можно удалить определенный элемент\n",
    "print(some_iter)\n",
    "some_iter.remove('cinema') # если попытатся удалить несуществующий элемент то подымится ValueError\n",
    "print(some_iter)"
   ]
  },
  {
   "cell_type": "code",
   "execution_count": null,
   "metadata": {},
   "outputs": [],
   "source": []
  }
 ],
 "metadata": {
  "kernelspec": {
   "display_name": "Python 3",
   "language": "python",
   "name": "python3"
  },
  "language_info": {
   "codemirror_mode": {
    "name": "ipython",
    "version": 3
   },
   "file_extension": ".py",
   "mimetype": "text/x-python",
   "name": "python",
   "nbconvert_exporter": "python",
   "pygments_lexer": "ipython3",
   "version": "3.8.5"
  }
 },
 "nbformat": 4,
 "nbformat_minor": 4
}
