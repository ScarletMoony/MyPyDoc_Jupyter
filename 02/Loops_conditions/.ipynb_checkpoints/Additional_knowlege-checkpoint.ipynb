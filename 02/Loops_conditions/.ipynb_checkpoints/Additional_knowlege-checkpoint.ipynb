{
 "cells": [
  {
   "cell_type": "code",
   "execution_count": 7,
   "metadata": {},
   "outputs": [
    {
     "name": "stdout",
     "output_type": "stream",
     "text": [
      "20\n"
     ]
    }
   ],
   "source": [
    "nums = [1, 2, 3, 4, 5, 6, 7, 8]\n",
    "\n",
    "sum_of_nums = 0\n",
    "\n",
    "for i in nums:\n",
    "    if i%2 == 0:\n",
    "        sum_of_nums += i\n",
    "    else:\n",
    "        continue          # continue пропускает все в цикле ниже\n",
    "    if sum_of_nums > 12:\n",
    "        break             # break останавливает выполнение цикла\n",
    "\n",
    "print(sum_of_nums)"
   ]
  },
  {
   "cell_type": "code",
   "execution_count": 10,
   "metadata": {},
   "outputs": [],
   "source": [
    "for i in nums:\n",
    "    pass     # pass пропускает выполнение цикла, !!! (не использовать с бесконечным циклом, он никогда не выполнится) !!!"
   ]
  }
 ],
 "metadata": {
  "kernelspec": {
   "display_name": "Python 3",
   "language": "python",
   "name": "python3"
  },
  "language_info": {
   "codemirror_mode": {
    "name": "ipython",
    "version": 3
   },
   "file_extension": ".py",
   "mimetype": "text/x-python",
   "name": "python",
   "nbconvert_exporter": "python",
   "pygments_lexer": "ipython3",
   "version": "3.8.5"
  }
 },
 "nbformat": 4,
 "nbformat_minor": 4
}
