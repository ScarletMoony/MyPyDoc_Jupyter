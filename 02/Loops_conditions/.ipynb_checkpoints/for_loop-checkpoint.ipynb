{
 "cells": [
  {
   "cell_type": "code",
   "execution_count": 7,
   "metadata": {},
   "outputs": [
    {
     "name": "stdout",
     "output_type": "stream",
     "text": [
      "1\n",
      "2\n",
      "3\n",
      "4\n"
     ]
    }
   ],
   "source": [
    "list1 = [1, 2, 3, 4]\n",
    "\n",
    "for i in list1: # цикл for преребирает элементы в итерируемом обьекте\n",
    "    print(i)"
   ]
  },
  {
   "cell_type": "code",
   "execution_count": 9,
   "metadata": {},
   "outputs": [
    {
     "name": "stdout",
     "output_type": "stream",
     "text": [
      "1\n",
      "2\n",
      "3\n",
      "4\n",
      "5\n",
      "6\n",
      "7\n"
     ]
    }
   ],
   "source": [
    "for i in range(1, 8): # так мы можем выполнить цикл (n)ое количество раз \n",
    "    print(i)"
   ]
  },
  {
   "cell_type": "code",
   "execution_count": 11,
   "metadata": {},
   "outputs": [
    {
     "name": "stdout",
     "output_type": "stream",
     "text": [
      "0 is id for 1\n",
      "1 is id for 2\n",
      "2 is id for 3\n",
      "3 is id for 4\n"
     ]
    }
   ],
   "source": [
    "for i_id, i in enumerate(list1): # см. enumerate в  MyPyDoc\\Additional_Knowlege\\01.ipynb(или 01.html)\n",
    "    print(f'{i_id} is id for {i}')"
   ]
  },
  {
   "cell_type": "code",
   "execution_count": 12,
   "metadata": {},
   "outputs": [
    {
     "name": "stdout",
     "output_type": "stream",
     "text": [
      "M\n",
      "a\n",
      "e\n",
      "s\n",
      "t\n",
      "r\n",
      "o\n"
     ]
    }
   ],
   "source": [
    "string1 = \"Maestro\"\n",
    "\n",
    "for i in string1: # С помощю цикла For можно перебирать строки\n",
    "    print(i)"
   ]
  },
  {
   "cell_type": "code",
   "execution_count": 14,
   "metadata": {},
   "outputs": [
    {
     "name": "stdout",
     "output_type": "stream",
     "text": [
      "Alarm!!!\n",
      "Alarm!!!\n",
      "Alarm!!!\n",
      "Alarm!!!\n",
      "Alarm!!!\n"
     ]
    }
   ],
   "source": [
    "for _ in range(5): # так можно вывести цикл (n)ое количество раз без преременных\n",
    "    print(\"Alarm!!!\")"
   ]
  },
  {
   "cell_type": "code",
   "execution_count": 20,
   "metadata": {},
   "outputs": [
    {
     "name": "stdout",
     "output_type": "stream",
     "text": [
      "Employee name is Alex and its age is 21\n",
      "Employee name is Vika and its age is 22\n",
      "Employee name is Alina and its age is 20\n"
     ]
    }
   ],
   "source": [
    "staff = [(\"Alex\", 21), (\"Vika\", 22), (\"Alina\", 20)]\n",
    "\n",
    "for name, age in staff: # так производится распаковка итерируемых обьектов\n",
    "    print(f'Employee name is {name} and its age is {age}')"
   ]
  },
  {
   "cell_type": "code",
   "execution_count": 23,
   "metadata": {},
   "outputs": [
    {
     "name": "stdout",
     "output_type": "stream",
     "text": [
      "0\n",
      "1\n",
      "2\n",
      "3\n",
      "4\n",
      "Code executed\n"
     ]
    }
   ],
   "source": [
    "for i in range(5):\n",
    "    print(i)\n",
    "else:                      # в цикле for можно использовать else которое выполнит переданный код в конце цикла \n",
    "    print(\"Code executed\")"
   ]
  }
 ],
 "metadata": {
  "kernelspec": {
   "display_name": "Python 3",
   "language": "python",
   "name": "python3"
  },
  "language_info": {
   "codemirror_mode": {
    "name": "ipython",
    "version": 3
   },
   "file_extension": ".py",
   "mimetype": "text/x-python",
   "name": "python",
   "nbconvert_exporter": "python",
   "pygments_lexer": "ipython3",
   "version": "3.8.5"
  }
 },
 "nbformat": 4,
 "nbformat_minor": 4
}
