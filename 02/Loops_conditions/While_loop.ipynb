{
 "cells": [
  {
   "cell_type": "code",
   "execution_count": 1,
   "metadata": {},
   "outputs": [
    {
     "name": "stdout",
     "output_type": "stream",
     "text": [
      "x = 0 now\n",
      "x = 1 now\n",
      "x = 2 now\n",
      "x = 3 now\n",
      "x = 4 now\n"
     ]
    }
   ],
   "source": [
    "x = 0\n",
    "\n",
    "while x < 5:\n",
    "    print(f'x = {x} now')\n",
    "    x += 1"
   ]
  },
  {
   "cell_type": "code",
   "execution_count": 4,
   "metadata": {},
   "outputs": [
    {
     "name": "stdout",
     "output_type": "stream",
     "text": [
      "y is not 0 now\n",
      "y is not 0 now\n",
      "y is not 0 now\n",
      "y is not 0 now\n",
      "y = 5, job is done now, y will fall to 0\n",
      "y is 0 now, code executed\n"
     ]
    }
   ],
   "source": [
    "y = 1\n",
    "\n",
    "while y != 0:\n",
    "    print('y is not 0 now')\n",
    "    y += 1\n",
    "    if y == 5:\n",
    "        print(f'y = {y}, job is done now, y will fall to 0')\n",
    "        y = 0\n",
    "else:\n",
    "    print(f'y is {y} now, code executed') "
   ]
  }
 ],
 "metadata": {
  "kernelspec": {
   "display_name": "Python 3",
   "language": "python",
   "name": "python3"
  },
  "language_info": {
   "codemirror_mode": {
    "name": "ipython",
    "version": 3
   },
   "file_extension": ".py",
   "mimetype": "text/x-python",
   "name": "python",
   "nbconvert_exporter": "python",
   "pygments_lexer": "ipython3",
   "version": "3.8.5"
  }
 },
 "nbformat": 4,
 "nbformat_minor": 4
}
