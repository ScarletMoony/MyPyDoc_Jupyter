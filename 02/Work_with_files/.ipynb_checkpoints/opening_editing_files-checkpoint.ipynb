{
 "cells": [
  {
   "cell_type": "code",
   "execution_count": 4,
   "metadata": {},
   "outputs": [
    {
     "name": "stdout",
     "output_type": "stream",
     "text": [
      "hren\n",
      "hren\n",
      "Hren\n",
      "\n",
      "lol\n"
     ]
    }
   ],
   "source": [
    "with open('texts/data.txt', 'r') as file:\n",
    "    data = file.read()\n",
    "    print(data)\n",
    "    \n",
    "# это токрывает файл data.txt в режиме 'r' как file\n",
    "# file.read() полностью выводит содержимое файла\n",
    "# Есть такие режимы открытия файла:\n",
    "\n",
    "    # 'w' полностью очищает файл и позволяет записывать в него\n",
    "    # 'r' позволяет просмотреть содержимое файла\n",
    "    # 'a' позволяет добавлять информацию в конец файла\n",
    "    # 'r+' сочитание 'w' + 'r' но не очищает файл\n",
    "    # 'w+' сочитание 'w' + 'r' но очищает файл\n",
    "    # 'a+' сочитание 'a' + 'r', если файл не существует то он автоматически создастся\n",
    "    # 'wb', 'rb', 'ab', 'r+b', 'a+b' выполняют те же функции но для бинарных файлов\n",
    "    # 'x' нужен только для создания файла"
   ]
  },
  {
   "cell_type": "code",
   "execution_count": 12,
   "metadata": {},
   "outputs": [
    {
     "name": "stdout",
     "output_type": "stream",
     "text": [
      "texts/data.txt\n",
      "hren\n"
     ]
    }
   ],
   "source": [
    "with open('texts/data.txt', 'r') as file:\n",
    "    data = file.read(4)\n",
    "    print(file.name, data, sep=\"\\n\")\n",
    "    \n",
    "# если передать в file.read() число то выведется только определенное количество символов а не весь файл\n",
    "# file.name выводит имя файла"
   ]
  },
  {
   "cell_type": "code",
   "execution_count": 24,
   "metadata": {},
   "outputs": [
    {
     "name": "stdout",
     "output_type": "stream",
     "text": [
      "file opened:  texts/data.txt\n",
      "\n",
      "hren\n",
      "\n",
      "hren\n",
      "\n",
      "Hren\n",
      "\n",
      "\n",
      "\n",
      "lol\n"
     ]
    }
   ],
   "source": [
    "with open ('texts/data.txt', 'r') as file:\n",
    "        print(\"file opened: \", file.name, end='\\n\\n')\n",
    "        print(file.readline()) # file.readline() возвращает только одну строку текста в файле\n",
    "        print(file.readline())\n",
    "        print(file.readline())\n",
    "        print(file.readline())\n",
    "        print(file.readline()) # при повторном вызове возвращается следующая строка (коретка переводится в конец строки)"
   ]
  },
  {
   "cell_type": "code",
   "execution_count": 25,
   "metadata": {},
   "outputs": [
    {
     "name": "stdout",
     "output_type": "stream",
     "text": [
      "['hren\\n', 'hren\\n', 'Hren\\n', '\\n', 'lol']\n",
      "<class 'list'>\n",
      "lol\n"
     ]
    }
   ],
   "source": [
    "with open('texts/data.txt', 'r') as file:\n",
    "    all_lines = file.readlines() # file.readlines() возвращает все строки файла в виде списка\n",
    "    print(all_lines)\n",
    "    print(type(all_lines))\n",
    "    print(all_lines[4])"
   ]
  },
  {
   "cell_type": "code",
   "execution_count": 51,
   "metadata": {},
   "outputs": [
    {
     "name": "stdout",
     "output_type": "stream",
     "text": [
      "hren\n",
      "\n",
      "hren\n",
      "\n",
      "Hren\n",
      "\n",
      "\n",
      "\n",
      "lol\n",
      "\n"
     ]
    }
   ],
   "source": [
    "with open('texts/data.txt', 'r') as file:\n",
    "    for i in file: # таким образом можно перебрать весь файл по строчкам\n",
    "        print(i)\n",
    "\n",
    "# Если это возможно, то лучше всегда использовать такой метод вместо file.open() так как перебор чере цикл более \n",
    "# эфективно расходует память"
   ]
  },
  {
   "cell_type": "code",
   "execution_count": 67,
   "metadata": {},
   "outputs": [
    {
     "name": "stdout",
     "output_type": "stream",
     "text": [
      "29\n",
      "0\n",
      "hren\n",
      "hren\n",
      "Hren\n",
      "\n",
      "lol\n",
      "1\n",
      "2\n",
      "3\n",
      "\n"
     ]
    }
   ],
   "source": [
    "with open('texts/data.txt', 'a+') as file: # для записи в конец файла лучше использовать a+\n",
    "    values = (1, 2, 3)\n",
    "    for i in values:\n",
    "        str_value = str(i)\n",
    "        file.write(str_value) # file.write() используется для записи данных в файл \n",
    "        file.write(\"\\n\") # это нужно для перехода на новую строку\n",
    "    print(file.tell()) # показывает где находиться коретка(указатель)\n",
    "    file.seek(0, 0) # устанавливает место куда переместить коретку(первое это символ, второе строка)\n",
    "    print(file.tell()) # здесь мы видим что указатель перевелся в начало файла\n",
    "    print(file.read())"
   ]
  },
  {
   "cell_type": "code",
   "execution_count": 63,
   "metadata": {},
   "outputs": [
    {
     "name": "stdout",
     "output_type": "stream",
     "text": [
      "\n"
     ]
    }
   ],
   "source": []
  }
 ],
 "metadata": {
  "kernelspec": {
   "display_name": "Python 3",
   "language": "python",
   "name": "python3"
  },
  "language_info": {
   "codemirror_mode": {
    "name": "ipython",
    "version": 3
   },
   "file_extension": ".py",
   "mimetype": "text/x-python",
   "name": "python",
   "nbconvert_exporter": "python",
   "pygments_lexer": "ipython3",
   "version": "3.8.5"
  }
 },
 "nbformat": 4,
 "nbformat_minor": 4
}
