{
 "cells": [
  {
   "cell_type": "code",
   "execution_count": 1,
   "metadata": {},
   "outputs": [
    {
     "name": "stdout",
     "output_type": "stream",
     "text": [
      "Hello Alex\n"
     ]
    }
   ],
   "source": [
    "def greeting(name): # так можно создать функцию\n",
    "    return 'Hello ' + name # return это то что вернет функция\n",
    "\n",
    "print(greeting(\"Alex\"))"
   ]
  },
  {
   "cell_type": "code",
   "execution_count": 2,
   "metadata": {},
   "outputs": [
    {
     "name": "stdout",
     "output_type": "stream",
     "text": [
      "5\n"
     ]
    }
   ],
   "source": [
    "def sum_of_nums(x, y):\n",
    "    sum1 = x + y\n",
    "    return sum1\n",
    "\n",
    "print(sum_of_nums(2, 3))"
   ]
  },
  {
   "cell_type": "code",
   "execution_count": 20,
   "metadata": {},
   "outputs": [
    {
     "name": "stdout",
     "output_type": "stream",
     "text": [
      "Help on function some_func in module __main__:\n",
      "\n",
      "some_func()\n",
      "    Some info for help()\n",
      "\n",
      "None\n"
     ]
    }
   ],
   "source": [
    "def some_func():\n",
    "    '''\n",
    "    Some info for help()\n",
    "    '''                   # так можно определить вывод запроса help()\n",
    "\n",
    "print(help(some_func))"
   ]
  },
  {
   "cell_type": "code",
   "execution_count": 10,
   "metadata": {},
   "outputs": [
    {
     "ename": "TypeError",
     "evalue": "greeting() missing 1 required positional argument: 'name'",
     "output_type": "error",
     "traceback": [
      "\u001b[1;31m---------------------------------------------------------------------------\u001b[0m",
      "\u001b[1;31mTypeError\u001b[0m                                 Traceback (most recent call last)",
      "\u001b[1;32m<ipython-input-10-3ffcd7d44b66>\u001b[0m in \u001b[0;36m<module>\u001b[1;34m\u001b[0m\n\u001b[1;32m----> 1\u001b[1;33m \u001b[0mgreeting\u001b[0m\u001b[1;33m(\u001b[0m\u001b[1;33m)\u001b[0m\u001b[1;33m\u001b[0m\u001b[1;33m\u001b[0m\u001b[0m\n\u001b[0m",
      "\u001b[1;31mTypeError\u001b[0m: greeting() missing 1 required positional argument: 'name'"
     ]
    }
   ],
   "source": [
    "greeting() # если функция запрашивает аргументы то без них нелбзя вызвать функцию"
   ]
  },
  {
   "cell_type": "code",
   "execution_count": 19,
   "metadata": {},
   "outputs": [
    {
     "name": "stdout",
     "output_type": "stream",
     "text": [
      "Got name: Grosh\n",
      "Got name: Alex\n"
     ]
    }
   ],
   "source": [
    "def get_name(name='Alex'): #  так можно присвоить базовое значение аргументам и можно вызывать функцию и без их передачи\n",
    "    return \"Got name: \" + name\n",
    "\n",
    "print(get_name(\"Grosh\"))\n",
    "print(get_name())"
   ]
  },
  {
   "cell_type": "code",
   "execution_count": 13,
   "metadata": {},
   "outputs": [
    {
     "name": "stdout",
     "output_type": "stream",
     "text": [
      "7.0\n"
     ]
    }
   ],
   "source": [
    "def half_sum(*args): # так можно принимать неограниченное количество аргументов\n",
    "    sum_of_args = 0\n",
    "    for i in args:\n",
    "        sum_of_args += i\n",
    "    return sum_of_args/2\n",
    "\n",
    "print(half_sum(2, 3, 4, 5))"
   ]
  },
  {
   "cell_type": "code",
   "execution_count": 21,
   "metadata": {},
   "outputs": [
    {
     "name": "stdout",
     "output_type": "stream",
     "text": [
      "[('Frogo', 12), ('Ratto', 54)]\n"
     ]
    }
   ],
   "source": [
    "def records(**kvargs): # # так можно принимать неограниченное количество key value аргументов\n",
    "    list_of_records = []\n",
    "    for k, v in kvargs.items():\n",
    "        record = (k, v)\n",
    "        list_of_records.append(record)\n",
    "    return list_of_records\n",
    "\n",
    "print(records(Frogo=12, Ratto=54))"
   ]
  },
  {
   "cell_type": "code",
   "execution_count": 24,
   "metadata": {},
   "outputs": [
    {
     "name": "stdout",
     "output_type": "stream",
     "text": [
      "Hi\n",
      "Privet\n",
      "Hello\n"
     ]
    }
   ],
   "source": [
    "some_arg = \"Hello\"\n",
    "\n",
    "def some_def():\n",
    "    some_arg = \"Hi\"\n",
    "    print(some_arg)\n",
    "    def some_nested_def():\n",
    "        some_arg = \"Privet\" # можно создать функцию в функции\n",
    "        print(some_arg)\n",
    "    some_nested_def()\n",
    "\n",
    "some_def()\n",
    "print(some_arg) # глобальные переменные нельзя менять в функциях, но можно использовать global(см. дальше)"
   ]
  },
  {
   "cell_type": "code",
   "execution_count": 26,
   "metadata": {},
   "outputs": [
    {
     "name": "stdout",
     "output_type": "stream",
     "text": [
      "Hi\n",
      "Hi\n"
     ]
    }
   ],
   "source": [
    "def c_some_def():\n",
    "    global some_arg # так можно изменить глобальную переменную, но лучше так никогда не делать\n",
    "    some_arg = \"Hi\"\n",
    "    print(some_arg)\n",
    "\n",
    "c_some_def()\n",
    "print(some_arg)"
   ]
  }
 ],
 "metadata": {
  "kernelspec": {
   "display_name": "Python 3",
   "language": "python",
   "name": "python3"
  },
  "language_info": {
   "codemirror_mode": {
    "name": "ipython",
    "version": 3
   },
   "file_extension": ".py",
   "mimetype": "text/x-python",
   "name": "python",
   "nbconvert_exporter": "python",
   "pygments_lexer": "ipython3",
   "version": "3.8.5"
  }
 },
 "nbformat": 4,
 "nbformat_minor": 4
}
