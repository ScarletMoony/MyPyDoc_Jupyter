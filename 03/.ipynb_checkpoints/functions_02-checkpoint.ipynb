{
 "cells": [
  {
   "cell_type": "code",
   "execution_count": 2,
   "metadata": {},
   "outputs": [
    {
     "name": "stdout",
     "output_type": "stream",
     "text": [
      "Function greeting started to work\n",
      "Please tell us your name: Alex\n",
      "Function greeting finished it's work.\n",
      "Thanks for joining us Alex\n",
      "\n",
      "Welcome to our main page\n"
     ]
    }
   ],
   "source": [
    "def wrapper(func): # это обычное создание декоратора\n",
    "    def wrap():\n",
    "        print(f'Function {func.__name__} started to work')\n",
    "        x = input(\"Please tell us your name: \")\n",
    "        print(f'Function {func.__name__} finished it\\'s work.\\nThanks for joining us {x}\\n')\n",
    "        func()\n",
    "    return wrap # обязательно нужно возвращать вложенную функцию\n",
    "\n",
    "@wrapper # так можно применить декоратор\n",
    "def greeting():\n",
    "    print(\"Welcome to our main page\")\n",
    "\n",
    "greeting()"
   ]
  },
  {
   "cell_type": "code",
   "execution_count": 25,
   "metadata": {},
   "outputs": [
    {
     "name": "stdout",
     "output_type": "stream",
     "text": [
      "Function hi started to work\n",
      "Please tell us your name: Alex\n",
      "Function hi finished it's work.\n",
      "Thanks for joining us Alex\n",
      "\n",
      "hi\n"
     ]
    }
   ],
   "source": [
    "def hi():\n",
    "    print(\"hi\")\n",
    "    \n",
    "some = wrapper(hi) # второй способ применить декоратор\n",
    "some()"
   ]
  },
  {
   "cell_type": "code",
   "execution_count": 26,
   "metadata": {},
   "outputs": [
    {
     "name": "stdout",
     "output_type": "stream",
     "text": [
      "Help on function wrap in module __main__:\n",
      "\n",
      "wrap()\n",
      "\n"
     ]
    }
   ],
   "source": [
    "help(some)"
   ]
  }
 ],
 "metadata": {
  "kernelspec": {
   "display_name": "Python 3",
   "language": "python",
   "name": "python3"
  },
  "language_info": {
   "codemirror_mode": {
    "name": "ipython",
    "version": 3
   },
   "file_extension": ".py",
   "mimetype": "text/x-python",
   "name": "python",
   "nbconvert_exporter": "python",
   "pygments_lexer": "ipython3",
   "version": "3.8.5"
  }
 },
 "nbformat": 4,
 "nbformat_minor": 4
}
