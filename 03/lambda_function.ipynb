{
 "cells": [
  {
   "cell_type": "code",
   "execution_count": 3,
   "metadata": {},
   "outputs": [
    {
     "name": "stdout",
     "output_type": "stream",
     "text": [
      "True\n",
      "[21, 43, 22]\n"
     ]
    }
   ],
   "source": [
    "def age_restriction(age):\n",
    "    return age >= 18\n",
    "\n",
    "print(age_restriction(22))\n",
    "\n",
    "ages = [21, 12, 43, 22, 16]\n",
    "\n",
    "print(list(filter(age_restriction, ages)))"
   ]
  },
  {
   "cell_type": "code",
   "execution_count": 5,
   "metadata": {},
   "outputs": [
    {
     "name": "stdout",
     "output_type": "stream",
     "text": [
      "[21, 43, 22]\n"
     ]
    }
   ],
   "source": [
    "print(list(filter(lambda age: age>=18, ages))) # lambda функции используются вместо простых функций, как в этом примере"
   ]
  }
 ],
 "metadata": {
  "kernelspec": {
   "display_name": "Python 3",
   "language": "python",
   "name": "python3"
  },
  "language_info": {
   "codemirror_mode": {
    "name": "ipython",
    "version": 3
   },
   "file_extension": ".py",
   "mimetype": "text/x-python",
   "name": "python",
   "nbconvert_exporter": "python",
   "pygments_lexer": "ipython3",
   "version": "3.8.5"
  }
 },
 "nbformat": 4,
 "nbformat_minor": 4
}
