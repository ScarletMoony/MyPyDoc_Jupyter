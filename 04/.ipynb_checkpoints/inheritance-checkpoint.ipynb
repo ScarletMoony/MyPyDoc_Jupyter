{
 "cells": [
  {
   "cell_type": "code",
   "execution_count": 2,
   "metadata": {},
   "outputs": [],
   "source": [
    "class vehicle:\n",
    "    \n",
    "    def __init__(self):\n",
    "        print(\"vehicle created\")\n",
    "    \n",
    "    def get_info(self):\n",
    "        print(\"Some info about vehicle\")"
   ]
  },
  {
   "cell_type": "code",
   "execution_count": 3,
   "metadata": {},
   "outputs": [],
   "source": [
    "class bicycle(vehicle):  # так происходит наследование, это нужно для использования функций базового класса в классах насл.\n",
    "\n",
    "    def __init__(self, name, brand):\n",
    "        vehicle.__init__(self)\n",
    "        \n",
    "        self.name = name\n",
    "        self.brand = brand\n",
    "    \n",
    "    def get_info(self):\n",
    "        print(f\"This vehicle named as {self.name} was created by {self.brand}\")"
   ]
  },
  {
   "cell_type": "code",
   "execution_count": 4,
   "metadata": {},
   "outputs": [],
   "source": [
    "class car(vehicle):\n",
    "    \n",
    "    def __init__(self, name, brand, year):\n",
    "        vehicle.__init__(self)\n",
    "        \n",
    "        self.name = name\n",
    "        self.brand = brand\n",
    "        self.year = year\n",
    "    \n",
    "    def get_info(self):\n",
    "        print(f\"Vehicle {self.name}, was invented in {self.year} by {self.brand}\")"
   ]
  },
  {
   "cell_type": "code",
   "execution_count": 5,
   "metadata": {},
   "outputs": [
    {
     "name": "stdout",
     "output_type": "stream",
     "text": [
      "vehicle created\n",
      "vehicle created\n",
      "vehicle created\n"
     ]
    }
   ],
   "source": [
    "veh = vehicle()\n",
    "bicy = bicycle(\"bicycle\", \"yamaha\")\n",
    "car1 = car(\"car\", \"ford\", \"1978\")"
   ]
  },
  {
   "cell_type": "code",
   "execution_count": 6,
   "metadata": {},
   "outputs": [
    {
     "name": "stdout",
     "output_type": "stream",
     "text": [
      "Some info about vehicle\n",
      "This vehicle named as bicycle was created by yamaha\n",
      "Vehicle car, was invented in 1978 by ford\n"
     ]
    }
   ],
   "source": [
    "veh.get_info()\n",
    "bicy.get_info()\n",
    "car1.get_info()"
   ]
  },
  {
   "cell_type": "code",
   "execution_count": 7,
   "metadata": {},
   "outputs": [
    {
     "name": "stdout",
     "output_type": "stream",
     "text": [
      "This vehicle named as bicycle was created by yamaha\n",
      "Vehicle car, was invented in 1978 by ford\n"
     ]
    }
   ],
   "source": [
    "for veh in [bicy, car1]:\n",
    "    veh.get_info()"
   ]
  },
  {
   "cell_type": "code",
   "execution_count": null,
   "metadata": {},
   "outputs": [],
   "source": []
  }
 ],
 "metadata": {
  "kernelspec": {
   "display_name": "Python 3",
   "language": "python",
   "name": "python3"
  },
  "language_info": {
   "codemirror_mode": {
    "name": "ipython",
    "version": 3
   },
   "file_extension": ".py",
   "mimetype": "text/x-python",
   "name": "python",
   "nbconvert_exporter": "python",
   "pygments_lexer": "ipython3",
   "version": "3.8.5"
  }
 },
 "nbformat": 4,
 "nbformat_minor": 4
}
