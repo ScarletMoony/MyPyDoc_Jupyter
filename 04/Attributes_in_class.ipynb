{
 "cells": [
  {
   "cell_type": "code",
   "execution_count": 31,
   "metadata": {},
   "outputs": [],
   "source": [
    "# Все ниже это лишь соглашение между програмистами на python\n",
    "\n",
    "class bag_of_coins:\n",
    "    MAX_COINS = 99  # если атрибут капсом то он статический(его желательно не трогать)\n",
    "    \n",
    "    def __init__(self, currency, my_coins):\n",
    "        self.__currency = currency  # два подчеркивания перед атрибутом делает его приватным(private)\n",
    "        self.__my_coins = my_coins                                                           # его не надо нигде трогать\n",
    "        self._current_coins = my_coins # одно подчеркивание означает что можно изменять его только в классе\n",
    "    \n",
    "    def steal(self):\n",
    "        self._current_coins -= 10\n",
    "        return self._current_coins\n",
    "    \n",
    "    @property  # это свойство с помощью которого можно будет читать что приватный что защищенный атрибут\n",
    "    def currency(self):\n",
    "        return self.__currency\n",
    "    \n",
    "    @property\n",
    "    def current_coins(self):\n",
    "        return self._current_coins\n",
    "    \n",
    "    @current_coins.setter  # с помощью этого свойства можно позволить изменять приватный или защищенный атрибут\n",
    "    def current_coins(self, current_coins):\n",
    "        if current_coins < 0:\n",
    "            self._current_coins = 0\n",
    "        elif current_coins > bag_of_coins.MAX_COINS:\n",
    "            self._current_coins = bag_of_coins.MAX_COINS\n",
    "        else :\n",
    "            self._current_coins = current_coins"
   ]
  },
  {
   "cell_type": "code",
   "execution_count": 36,
   "metadata": {},
   "outputs": [
    {
     "name": "stdout",
     "output_type": "stream",
     "text": [
      "99\n"
     ]
    },
    {
     "data": {
      "text/plain": [
       "100"
      ]
     },
     "execution_count": 36,
     "metadata": {},
     "output_type": "execute_result"
    }
   ],
   "source": [
    "boc = bag_of_coins(\"Dollar\", 99)\n",
    "\n",
    "print(boc.MAX_COINS)\n",
    "boc.MAX_COINS = 100\n",
    "boc.MAX_COINS"
   ]
  },
  {
   "cell_type": "code",
   "execution_count": 24,
   "metadata": {},
   "outputs": [
    {
     "ename": "AttributeError",
     "evalue": "'bag_of_coins' object has no attribute 'my_coins'",
     "output_type": "error",
     "traceback": [
      "\u001b[1;31m---------------------------------------------------------------------------\u001b[0m",
      "\u001b[1;31mAttributeError\u001b[0m                            Traceback (most recent call last)",
      "\u001b[1;32m<ipython-input-24-a778dcb741ec>\u001b[0m in \u001b[0;36m<module>\u001b[1;34m\u001b[0m\n\u001b[1;32m----> 1\u001b[1;33m \u001b[0mboc\u001b[0m\u001b[1;33m.\u001b[0m\u001b[0mmy_coins\u001b[0m\u001b[1;33m\u001b[0m\u001b[1;33m\u001b[0m\u001b[0m\n\u001b[0m",
      "\u001b[1;31mAttributeError\u001b[0m: 'bag_of_coins' object has no attribute 'my_coins'"
     ]
    }
   ],
   "source": [
    "boc.my_coins"
   ]
  },
  {
   "cell_type": "code",
   "execution_count": 25,
   "metadata": {},
   "outputs": [
    {
     "data": {
      "text/plain": [
       "99"
      ]
     },
     "execution_count": 25,
     "metadata": {},
     "output_type": "execute_result"
    }
   ],
   "source": [
    "boc._bag_of_coins__my_coins"
   ]
  },
  {
   "cell_type": "code",
   "execution_count": 26,
   "metadata": {},
   "outputs": [
    {
     "data": {
      "text/plain": [
       "99"
      ]
     },
     "execution_count": 26,
     "metadata": {},
     "output_type": "execute_result"
    }
   ],
   "source": [
    "boc._current_coins"
   ]
  },
  {
   "cell_type": "code",
   "execution_count": 27,
   "metadata": {},
   "outputs": [
    {
     "data": {
      "text/plain": [
       "'Dollar'"
      ]
     },
     "execution_count": 27,
     "metadata": {},
     "output_type": "execute_result"
    }
   ],
   "source": [
    "boc.currency"
   ]
  },
  {
   "cell_type": "code",
   "execution_count": 29,
   "metadata": {},
   "outputs": [
    {
     "name": "stdout",
     "output_type": "stream",
     "text": [
      "98\n"
     ]
    },
    {
     "data": {
      "text/plain": [
       "98"
      ]
     },
     "execution_count": 29,
     "metadata": {},
     "output_type": "execute_result"
    }
   ],
   "source": [
    "print(boc.current_coins)\n",
    "boc.current_coins = 98\n",
    "boc.current_coins"
   ]
  },
  {
   "cell_type": "code",
   "execution_count": 37,
   "metadata": {},
   "outputs": [
    {
     "name": "stdout",
     "output_type": "stream",
     "text": [
      "89\n"
     ]
    }
   ],
   "source": [
    "print(boc.steal())"
   ]
  }
 ],
 "metadata": {
  "kernelspec": {
   "display_name": "Python 3",
   "language": "python",
   "name": "python3"
  },
  "language_info": {
   "codemirror_mode": {
    "name": "ipython",
    "version": 3
   },
   "file_extension": ".py",
   "mimetype": "text/x-python",
   "name": "python",
   "nbconvert_exporter": "python",
   "pygments_lexer": "ipython3",
   "version": "3.8.5"
  }
 },
 "nbformat": 4,
 "nbformat_minor": 4
}
