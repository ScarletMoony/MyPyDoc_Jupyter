{
 "cells": [
  {
   "cell_type": "code",
   "execution_count": 40,
   "metadata": {},
   "outputs": [],
   "source": [
    "class bag_of_coins:\n",
    "    \n",
    "    def __init__(self):\n",
    "        self.coins = 100\n",
    "        \n",
    "    def bankrupt(self):\n",
    "            print(\"You are bankrupt, you lose\")\n",
    "    \n",
    "class game(bag_of_coins):\n",
    "    \n",
    "    def __init__(self, boc):\n",
    "        self.boc = boc\n",
    "        self.coins = boc.coins\n",
    "        print(self.coins)\n",
    "    \n",
    "    def lose(self):\n",
    "        if self.boc.coins <= 0:\n",
    "            print(\"You are bankrupt, you lose\")\n",
    "            return True\n",
    "        else:\n",
    "            return False\n",
    "\n",
    "class gameMixin(object): # грубо говоря mixin это дополнительный класс к основному, чтобы выполнить какиеть действия без\n",
    "                                                                                                             # \"Ромба смерти\"      \n",
    "    def __init__(self, boc):\n",
    "        self.boc = boc\n",
    "        self.game = game(boc)\n",
    "    \n",
    "    def steal_coins(self):\n",
    "        self.boc.coins -= 10\n",
    "        print(self.boc.coins)\n",
    "        self.game.lose()\n",
    "    \n",
    "    \n",
    "\n",
    "class play(bag_of_coins, gameMixin):\n",
    "    \n",
    "    def __init__(self, boc):\n",
    "        self.boc = bag_of_coins()\n",
    "        self.gm = gameMixin(boc)\n",
    "\n",
    "    def playing(self):\n",
    "        while self.gm.game.lose() == False:\n",
    "            self.gm.steal_coins()"
   ]
  },
  {
   "cell_type": "code",
   "execution_count": 41,
   "metadata": {},
   "outputs": [
    {
     "name": "stdout",
     "output_type": "stream",
     "text": [
      "100\n",
      "100\n",
      "90\n",
      "80\n",
      "70\n",
      "60\n",
      "50\n",
      "40\n",
      "30\n",
      "20\n",
      "10\n",
      "0\n",
      "You are bankrupt, you lose\n",
      "You are bankrupt, you lose\n"
     ]
    }
   ],
   "source": [
    "boc = bag_of_coins()\n",
    "g = game(boc)\n",
    "\n",
    "p = play(boc)\n",
    "\n",
    "play.playing(p)"
   ]
  }
 ],
 "metadata": {
  "kernelspec": {
   "display_name": "Python 3",
   "language": "python",
   "name": "python3"
  },
  "language_info": {
   "codemirror_mode": {
    "name": "ipython",
    "version": 3
   },
   "file_extension": ".py",
   "mimetype": "text/x-python",
   "name": "python",
   "nbconvert_exporter": "python",
   "pygments_lexer": "ipython3",
   "version": "3.8.5"
  }
 },
 "nbformat": 4,
 "nbformat_minor": 4
}
