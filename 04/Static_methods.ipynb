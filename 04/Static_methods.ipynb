{
 "cells": [
  {
   "cell_type": "code",
   "execution_count": 2,
   "metadata": {},
   "outputs": [],
   "source": [
    "class Date:\n",
    "    \n",
    "    def __init__(self, month, day, year):\n",
    "        self.month = month\n",
    "        self.day = day\n",
    "        self.year = year\n",
    "    \n",
    "    def display(self):\n",
    "        print(f\"{self.month}-{self.day}-{self.year}\")\n",
    "        \n",
    "    @classmethod  # classmethod исползуется для создания обьекта с статическими значениями переменных\n",
    "    def mil_c(cls, month, day):\n",
    "        return cls(month, day, 2000)\n",
    "    \n",
    "    @staticmethod # тоже что и classmethoд, обьяснение различий ниже\n",
    "    def mil_s(month, day):\n",
    "        return Date(month, day, 2000)"
   ]
  },
  {
   "cell_type": "code",
   "execution_count": 3,
   "metadata": {},
   "outputs": [
    {
     "name": "stdout",
     "output_type": "stream",
     "text": [
      "2-3-2000\n",
      "2-3-2000\n"
     ]
    }
   ],
   "source": [
    "d1 = Date.mil_c(2, 3)\n",
    "d2 = Date.mil_s(2, 3)\n",
    "\n",
    "d1.display()\n",
    "d2.display()"
   ]
  },
  {
   "cell_type": "code",
   "execution_count": 4,
   "metadata": {},
   "outputs": [],
   "source": [
    "class DateTime(Date):\n",
    "    def display(self):\n",
    "        print(f\"{self.month}-{self.day}-{self.year}-00:00:00PM\")"
   ]
  },
  {
   "cell_type": "code",
   "execution_count": 6,
   "metadata": {},
   "outputs": [
    {
     "name": "stdout",
     "output_type": "stream",
     "text": [
      "True\n",
      "True\n",
      "False\n",
      "2-3-2000-00:00:00PM\n",
      "2-3-2000-00:00:00PM\n",
      "2-3-2000\n"
     ]
    }
   ],
   "source": [
    "dt1 = DateTime(2, 3, 2000)\n",
    "dt2 = DateTime.mil_c(2, 3)\n",
    "dt3 = DateTime.mil_s(2, 3)\n",
    "\n",
    "print(isinstance(dt1, DateTime))\n",
    "print(isinstance(dt2, DateTime)) # classmethod обьект создается на уровне класса и является инстанцией того класса с которого\n",
    "                                                                                                   # был вызван\n",
    "print(isinstance(dt3, DateTime)) # staticmethod обьект создается только на уровне класса где был создан и является только\n",
    "                                                                                                    # его инстанцией\n",
    "dt1.display()\n",
    "dt2.display()\n",
    "dt3.display()"
   ]
  },
  {
   "cell_type": "code",
   "execution_count": null,
   "metadata": {},
   "outputs": [],
   "source": []
  }
 ],
 "metadata": {
  "kernelspec": {
   "display_name": "Python 3",
   "language": "python",
   "name": "python3"
  },
  "language_info": {
   "codemirror_mode": {
    "name": "ipython",
    "version": 3
   },
   "file_extension": ".py",
   "mimetype": "text/x-python",
   "name": "python",
   "nbconvert_exporter": "python",
   "pygments_lexer": "ipython3",
   "version": "3.8.5"
  }
 },
 "nbformat": 4,
 "nbformat_minor": 4
}
