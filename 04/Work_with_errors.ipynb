{
 "cells": [
  {
   "cell_type": "code",
   "execution_count": 4,
   "metadata": {},
   "outputs": [
    {
     "name": "stdout",
     "output_type": "stream",
     "text": [
      "w\n",
      "unsupported operand type(s) for /: 'int' and 'str' ocurred\n",
      "Plz enter a number\n"
     ]
    }
   ],
   "source": [
    "def divide(a, b):\n",
    "    return a/b\n",
    "try:                             # это начало блока проверки на ошибку(внутри код который нужно проверять на ошибки)\n",
    "    print(divide(2, input()))\n",
    "except TypeError as notint:      # так мы можем \"ловить\" ошибки\n",
    "    print(f'{notint} ocurred\\nPlz enter a number')"
   ]
  },
  {
   "cell_type": "code",
   "execution_count": 5,
   "metadata": {},
   "outputs": [
    {
     "name": "stdout",
     "output_type": "stream",
     "text": [
      "2\n",
      "1.0\n"
     ]
    }
   ],
   "source": [
    "try:\n",
    "    print(divide(2, int(input())))\n",
    "except TypeError as notint:\n",
    "    print(f'{notint} ocurred\\nPlz enter a number')"
   ]
  },
  {
   "cell_type": "code",
   "execution_count": 6,
   "metadata": {},
   "outputs": [
    {
     "name": "stdout",
     "output_type": "stream",
     "text": [
      "w\n",
      "uncnown error is ocured\n",
      "Finally\n"
     ]
    }
   ],
   "source": [
    "try:\n",
    "    print(divide(3, input()))\n",
    "except:\n",
    "    print(\"uncnown error is ocured\")\n",
    "else:                                # если не найденно ошибки, то выполнится else\n",
    "    print(\"Yeah right\")\n",
    "finally:                             # finally всегда выполняется в конце\n",
    "    print(\"Finally\")"
   ]
  },
  {
   "cell_type": "code",
   "execution_count": 7,
   "metadata": {},
   "outputs": [
    {
     "name": "stdout",
     "output_type": "stream",
     "text": [
      "2\n",
      "1.5\n",
      "Yeah right\n",
      "Finally\n"
     ]
    }
   ],
   "source": [
    "try:\n",
    "    print(divide(3, int(input())))\n",
    "except:\n",
    "    print(\"uncnown error is ocured\")\n",
    "else:\n",
    "    print(\"Yeah right\")\n",
    "finally:\n",
    "    print(\"Finally\")"
   ]
  },
  {
   "cell_type": "code",
   "execution_count": 11,
   "metadata": {},
   "outputs": [],
   "source": [
    "class NameIsNumsError(Exception):          # так можно создать свою ошибку\n",
    "    \"\"\"Raised when name has nums on it\"\"\"  # это описание для ошибки(оно не выводится и нужно только для тех кто читает код)"
   ]
  },
  {
   "cell_type": "code",
   "execution_count": 29,
   "metadata": {},
   "outputs": [
    {
     "name": "stdout",
     "output_type": "stream",
     "text": [
      "Please tell us your name: 2\n"
     ]
    },
    {
     "ename": "NameIsNumsError",
     "evalue": "Name has numbers or special symbols on it",
     "output_type": "error",
     "traceback": [
      "\u001b[1;31m---------------------------------------------------------------------------\u001b[0m",
      "\u001b[1;31mNameIsNumsError\u001b[0m                           Traceback (most recent call last)",
      "\u001b[1;32m<ipython-input-29-6c4d9af60543>\u001b[0m in \u001b[0;36m<module>\u001b[1;34m\u001b[0m\n\u001b[0;32m      5\u001b[0m     \u001b[1;32mreturn\u001b[0m \u001b[1;34mf\"Welcome home {name.capitalize()}\"\u001b[0m\u001b[1;33m\u001b[0m\u001b[1;33m\u001b[0m\u001b[0m\n\u001b[0;32m      6\u001b[0m \u001b[1;33m\u001b[0m\u001b[0m\n\u001b[1;32m----> 7\u001b[1;33m \u001b[0mprint\u001b[0m\u001b[1;33m(\u001b[0m\u001b[0mget_name\u001b[0m\u001b[1;33m(\u001b[0m\u001b[0minput\u001b[0m\u001b[1;33m(\u001b[0m\u001b[1;34m\"Please tell us your name: \"\u001b[0m\u001b[1;33m)\u001b[0m\u001b[1;33m)\u001b[0m\u001b[1;33m)\u001b[0m\u001b[1;33m\u001b[0m\u001b[1;33m\u001b[0m\u001b[0m\n\u001b[0m",
      "\u001b[1;32m<ipython-input-29-6c4d9af60543>\u001b[0m in \u001b[0;36mget_name\u001b[1;34m(name)\u001b[0m\n\u001b[0;32m      1\u001b[0m \u001b[1;32mdef\u001b[0m \u001b[0mget_name\u001b[0m\u001b[1;33m(\u001b[0m\u001b[0mname\u001b[0m\u001b[1;33m)\u001b[0m\u001b[1;33m:\u001b[0m\u001b[1;33m\u001b[0m\u001b[1;33m\u001b[0m\u001b[0m\n\u001b[0;32m      2\u001b[0m     \u001b[1;32mif\u001b[0m \u001b[0mname\u001b[0m\u001b[1;33m.\u001b[0m\u001b[0misalpha\u001b[0m\u001b[1;33m(\u001b[0m\u001b[1;33m)\u001b[0m\u001b[1;33m==\u001b[0m\u001b[1;32mFalse\u001b[0m\u001b[1;33m:\u001b[0m\u001b[1;33m\u001b[0m\u001b[1;33m\u001b[0m\u001b[0m\n\u001b[1;32m----> 3\u001b[1;33m         \u001b[1;32mraise\u001b[0m \u001b[0mNameIsNumsError\u001b[0m\u001b[1;33m(\u001b[0m\u001b[1;34m\"Name has numbers or special symbols on it\"\u001b[0m\u001b[1;33m)\u001b[0m \u001b[1;31m# так пожно \"поднять\" ошибку\u001b[0m\u001b[1;33m\u001b[0m\u001b[1;33m\u001b[0m\u001b[0m\n\u001b[0m\u001b[0;32m      4\u001b[0m \u001b[1;33m\u001b[0m\u001b[0m\n\u001b[0;32m      5\u001b[0m     \u001b[1;32mreturn\u001b[0m \u001b[1;34mf\"Welcome home {name.capitalize()}\"\u001b[0m\u001b[1;33m\u001b[0m\u001b[1;33m\u001b[0m\u001b[0m\n",
      "\u001b[1;31mNameIsNumsError\u001b[0m: Name has numbers or special symbols on it"
     ]
    }
   ],
   "source": [
    "def get_name(name):\n",
    "    if name.isalpha()==False:\n",
    "        raise NameIsNumsError(\"Name has numbers or special symbols on it\") # так пожно \"поднять\" ошибку\n",
    "    \n",
    "    return f\"Welcome home {name.capitalize()}\"\n",
    "\n",
    "print(get_name(input(\"Please tell us your name: \")))"
   ]
  }
 ],
 "metadata": {
  "kernelspec": {
   "display_name": "Python 3",
   "language": "python",
   "name": "python3"
  },
  "language_info": {
   "codemirror_mode": {
    "name": "ipython",
    "version": 3
   },
   "file_extension": ".py",
   "mimetype": "text/x-python",
   "name": "python",
   "nbconvert_exporter": "python",
   "pygments_lexer": "ipython3",
   "version": "3.8.5"
  }
 },
 "nbformat": 4,
 "nbformat_minor": 4
}
