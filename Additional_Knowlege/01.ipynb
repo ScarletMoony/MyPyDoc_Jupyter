{
 "cells": [
  {
   "cell_type": "code",
   "execution_count": null,
   "metadata": {},
   "outputs": [],
   "source": [
    "# \\n starts new line\n",
    "# \\r moves text pointer to start of the line"
   ]
  },
  {
   "cell_type": "code",
   "execution_count": 7,
   "metadata": {},
   "outputs": [
    {
     "name": "stdout",
     "output_type": "stream",
     "text": [
      "[(0, 'some'), (1, 'words'), (2, 'here')]\n"
     ]
    }
   ],
   "source": [
    "list1 = [\"some\", \"words\", \"here\"]\n",
    "\n",
    "enumlist1 = list(enumerate(list1, start=0)) # enumerate позволяет прономеровать элементы итерируемого обьекта\n",
    "\n",
    "print(enumlist1)"
   ]
  },
  {
   "cell_type": "code",
   "execution_count": 2,
   "metadata": {
    "scrolled": true
   },
   "outputs": [
    {
     "name": "stdout",
     "output_type": "stream",
     "text": [
      "280571172992510140037611932413038677189525\n"
     ]
    }
   ],
   "source": [
    "# моя реализация фибоначи\n",
    "def fib(n):\n",
    "    z = 0\n",
    "    x = 1\n",
    "    y = 0\n",
    "    \n",
    "    for _ in range(n-1):\n",
    "        z = x + y\n",
    "        y = x\n",
    "        x = z\n",
    "    return z\n",
    "#     if n < 2:\n",
    "#         return n\n",
    "#     return fib(n-1) + fib(n-2)\n",
    "print(fib(200))"
   ]
  }
 ],
 "metadata": {
  "kernelspec": {
   "display_name": "Python 3",
   "language": "python",
   "name": "python3"
  },
  "language_info": {
   "codemirror_mode": {
    "name": "ipython",
    "version": 3
   },
   "file_extension": ".py",
   "mimetype": "text/x-python",
   "name": "python",
   "nbconvert_exporter": "python",
   "pygments_lexer": "ipython3",
   "version": "3.8.5"
  }
 },
 "nbformat": 4,
 "nbformat_minor": 4
}
