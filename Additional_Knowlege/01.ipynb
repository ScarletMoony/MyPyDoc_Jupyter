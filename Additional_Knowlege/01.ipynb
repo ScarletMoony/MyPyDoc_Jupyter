{
 "cells": [
  {
   "cell_type": "code",
   "execution_count": null,
   "metadata": {},
   "outputs": [],
   "source": [
    "# \\n starts new line\n",
    "# \\r moves text pointer to start of the line"
   ]
  },
  {
   "cell_type": "code",
   "execution_count": 7,
   "metadata": {},
   "outputs": [
    {
     "name": "stdout",
     "output_type": "stream",
     "text": [
      "[(0, 'some'), (1, 'words'), (2, 'here')]\n"
     ]
    }
   ],
   "source": [
    "list1 = [\"some\", \"words\", \"here\"]\n",
    "\n",
    "enumlist1 = list(enumerate(list1, start=0)) # enumerate позволяет прономеровать элементы итерируемого обьекта\n",
    "\n",
    "print(enumlist1)"
   ]
  }
 ],
 "metadata": {
  "kernelspec": {
   "display_name": "Python 3",
   "language": "python",
   "name": "python3"
  },
  "language_info": {
   "codemirror_mode": {
    "name": "ipython",
    "version": 3
   },
   "file_extension": ".py",
   "mimetype": "text/x-python",
   "name": "python",
   "nbconvert_exporter": "python",
   "pygments_lexer": "ipython3",
   "version": "3.8.5"
  }
 },
 "nbformat": 4,
 "nbformat_minor": 4
}
