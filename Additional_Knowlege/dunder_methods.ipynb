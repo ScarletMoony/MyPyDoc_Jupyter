{
 "cells": [
  {
   "cell_type": "code",
   "execution_count": 13,
   "metadata": {},
   "outputs": [],
   "source": [
    "#!!!!! Магические методы это функции в которых можно переопределить базовые возможности классов !!!!!\n",
    "\n",
    "# в __init__ прописывается что делать при создании обьекта\n",
    "# в __repr__ прописывается поведение обьекта с функцией repr() \n",
    "# в __str__ прописывается поведение обьекта с функцией str() и print() \n",
    "# в __len__ прописывается поведение обьекта с функцией len() \n",
    "# в __getitem__ прописывается что надо выводить при запросе элемента по индексу(типо someobj[1]) если обьект итерируемый \n",
    "# в __setitem__ прописывает что делать при попытке изменить элемент итерируемого обьекта по индексу\n",
    "# в __delitem__ прописывает что делать при попытке удалить элемент итерируемого обьекта по индексу\n",
    "# в __iter__ и __next__ обязательно должны быть вместе у класса, они определяют обьект как итерируемый и в них прописывается\n",
    "                                            # поведение обьекта если к нему обратились как к итерируемому(см. обьяснение ниже)\n",
    "# в __reversed__ прописывается поведение обьекта с функцией reversed() \n",
    "# в __lt__(<) __le__(<=) __eq__(==) __ne__(!=) __gt__(>) __ge__(>=) переопределяют действия операторов сравнения \n",
    "        # !!! при их переопределении надо возвращать их же сравнение(типо def __eq__(self, some): return some == 1) !!!\n",
    "# в __add__ переопределяет действие оператора + \n",
    "# в __sub__ переопределяет действие оператора - \n",
    "# в __mul__ переопределяет действие оператора * \n",
    "# в __truediv__ переопределяет действие оператора / \n",
    "# в __floordiv__ переопределяет действие оператора // \n",
    "# в __call__ прописывается поведение обьекта при его вызове\n",
    "# в __enter__ и __exit__ можно прописеть поведение для (with someobj as x) типо как в работе с файлами\n",
    "# в __del__ прописывается поведение обьекта с функцией del() \n",
    "# в __bytes__ прописывается поведение обьекта с функцией bytes() \n",
    "# в __format__ прописывается поведение обьекта с функцией format() \n",
    "# в __abs__ дает возможность поддержки математической функции abs()\n",
    "# в __int__  дает возможность поддержки математической функции int()\n",
    "# в __float__ дает возможность поддержки математической функции float()\n",
    "# в __complex__ дает возможность поддержки математической функции complex()\n",
    "# в __round__ дает возможность поддержки математической функции round()"
   ]
  },
  {
   "cell_type": "code",
   "execution_count": 11,
   "metadata": {},
   "outputs": [
    {
     "name": "stdout",
     "output_type": "stream",
     "text": [
      "True\n"
     ]
    }
   ],
   "source": [
    "class socl:\n",
    "    \n",
    "    def __eq__(self, some):\n",
    "        return some == 1\n",
    "\n",
    "sc = socl()\n",
    "print(sc == sc)"
   ]
  },
  {
   "cell_type": "code",
   "execution_count": 16,
   "metadata": {},
   "outputs": [
    {
     "name": "stdout",
     "output_type": "stream",
     "text": [
      "1\n",
      "2\n",
      "4\n",
      "8\n"
     ]
    },
    {
     "ename": "StopIteration",
     "evalue": "",
     "output_type": "error",
     "traceback": [
      "\u001b[1;31m---------------------------------------------------------------------------\u001b[0m",
      "\u001b[1;31mStopIteration\u001b[0m                             Traceback (most recent call last)",
      "\u001b[1;32m<ipython-input-16-85f8ae0c17c7>\u001b[0m in \u001b[0;36m<module>\u001b[1;34m\u001b[0m\n\u001b[0;32m     32\u001b[0m \u001b[0mprint\u001b[0m\u001b[1;33m(\u001b[0m\u001b[0mnext\u001b[0m\u001b[1;33m(\u001b[0m\u001b[0mi\u001b[0m\u001b[1;33m)\u001b[0m\u001b[1;33m)\u001b[0m\u001b[1;33m\u001b[0m\u001b[1;33m\u001b[0m\u001b[0m\n\u001b[0;32m     33\u001b[0m \u001b[0mprint\u001b[0m\u001b[1;33m(\u001b[0m\u001b[0mnext\u001b[0m\u001b[1;33m(\u001b[0m\u001b[0mi\u001b[0m\u001b[1;33m)\u001b[0m\u001b[1;33m)\u001b[0m\u001b[1;33m\u001b[0m\u001b[1;33m\u001b[0m\u001b[0m\n\u001b[1;32m---> 34\u001b[1;33m \u001b[0mprint\u001b[0m\u001b[1;33m(\u001b[0m\u001b[0mnext\u001b[0m\u001b[1;33m(\u001b[0m\u001b[0mi\u001b[0m\u001b[1;33m)\u001b[0m\u001b[1;33m)\u001b[0m\u001b[1;33m\u001b[0m\u001b[1;33m\u001b[0m\u001b[0m\n\u001b[0m",
      "\u001b[1;32m<ipython-input-16-85f8ae0c17c7>\u001b[0m in \u001b[0;36m__next__\u001b[1;34m(self)\u001b[0m\n\u001b[0;32m     18\u001b[0m             \u001b[1;32mreturn\u001b[0m \u001b[0mresult\u001b[0m\u001b[1;33m\u001b[0m\u001b[1;33m\u001b[0m\u001b[0m\n\u001b[0;32m     19\u001b[0m         \u001b[1;32melse\u001b[0m\u001b[1;33m:\u001b[0m\u001b[1;33m\u001b[0m\u001b[1;33m\u001b[0m\u001b[0m\n\u001b[1;32m---> 20\u001b[1;33m             \u001b[1;32mraise\u001b[0m \u001b[0mStopIteration\u001b[0m\u001b[1;33m\u001b[0m\u001b[1;33m\u001b[0m\u001b[0m\n\u001b[0m\u001b[0;32m     21\u001b[0m \u001b[1;33m\u001b[0m\u001b[0m\n\u001b[0;32m     22\u001b[0m \u001b[1;33m\u001b[0m\u001b[0m\n",
      "\u001b[1;31mStopIteration\u001b[0m: "
     ]
    }
   ],
   "source": [
    "# !!!! Ниже приведен пример использования __iter__ и __next__\n",
    "\n",
    "class PowTwo:\n",
    "    \"\"\"Class to implement an iterator\n",
    "    of powers of two\"\"\"\n",
    "\n",
    "    def __init__(self, max=0):\n",
    "        self.max = max\n",
    "\n",
    "    def __iter__(self):\n",
    "        self.n = 0\n",
    "        return self\n",
    "\n",
    "    def __next__(self):\n",
    "        if self.n <= self.max:\n",
    "            result = 2 ** self.n\n",
    "            self.n += 1\n",
    "            return result\n",
    "        else:\n",
    "            raise StopIteration\n",
    "\n",
    "\n",
    "# create an object\n",
    "numbers = PowTwo(3)\n",
    "\n",
    "# create an iterable from the object\n",
    "i = iter(numbers)\n",
    "\n",
    "# Using next to get to the next iterator element\n",
    "print(next(i))\n",
    "print(next(i))\n",
    "print(next(i))\n",
    "print(next(i))\n",
    "print(next(i))"
   ]
  }
 ],
 "metadata": {
  "kernelspec": {
   "display_name": "Python 3",
   "language": "python",
   "name": "python3"
  },
  "language_info": {
   "codemirror_mode": {
    "name": "ipython",
    "version": 3
   },
   "file_extension": ".py",
   "mimetype": "text/x-python",
   "name": "python",
   "nbconvert_exporter": "python",
   "pygments_lexer": "ipython3",
   "version": "3.8.5"
  }
 },
 "nbformat": 4,
 "nbformat_minor": 4
}
