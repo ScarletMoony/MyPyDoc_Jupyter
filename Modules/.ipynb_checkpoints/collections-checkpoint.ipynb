{
 "cells": [
  {
   "cell_type": "code",
   "execution_count": 13,
   "metadata": {},
   "outputs": [],
   "source": [
    "import collections # "
   ]
  },
  {
   "cell_type": "code",
   "execution_count": 85,
   "metadata": {},
   "outputs": [
    {
     "name": "stdout",
     "output_type": "stream",
     "text": [
      "Counter({'some': 2, 'as': 1, 'if': 1})\n"
     ]
    }
   ],
   "source": [
    "c = collections.Counter() # считает количество неизменяемых обьектов\n",
    "\n",
    "for i in ['some', 'as', 'if', 'some']:\n",
    "    c[i] += 1\n",
    "\n",
    "print(c)"
   ]
  },
  {
   "cell_type": "code",
   "execution_count": 21,
   "metadata": {},
   "outputs": [
    {
     "name": "stdout",
     "output_type": "stream",
     "text": [
      "Counter({'some': 2, 'as': 1, 'if': 1, 'ok': 0})\n",
      "2\n"
     ]
    }
   ],
   "source": [
    "c['ok'] = 0 # можно добавить новый элемент\n",
    "\n",
    "print(c)\n",
    "print(c['some']) #  так можно узнать значение"
   ]
  },
  {
   "cell_type": "code",
   "execution_count": 82,
   "metadata": {},
   "outputs": [
    {
     "data": {
      "text/plain": [
       "Counter({'some': 2, 'as': 1, 'if': 1})"
      ]
     },
     "execution_count": 82,
     "metadata": {},
     "output_type": "execute_result"
    }
   ],
   "source": [
    "collections.Counter(['some', 'as', 'if', 'some']) # обычный Counter"
   ]
  },
  {
   "cell_type": "code",
   "execution_count": 84,
   "metadata": {},
   "outputs": [
    {
     "data": {
      "text/plain": [
       "['some', 'some', 'as', 'if', 'if']"
      ]
     },
     "execution_count": 84,
     "metadata": {},
     "output_type": "execute_result"
    }
   ],
   "source": [
    "x = list(c.elements()) # распределяет элементы в лексикографическом порядке\n",
    "x"
   ]
  },
  {
   "cell_type": "code",
   "execution_count": 36,
   "metadata": {},
   "outputs": [
    {
     "data": {
      "text/plain": [
       "[('s', 2), ('i', 2), ('e', 1)]"
      ]
     },
     "execution_count": 36,
     "metadata": {},
     "output_type": "execute_result"
    }
   ],
   "source": [
    "collections.Counter('seismic').most_common(3) # создает кортежи из того сколько раз встреаются элементы"
   ]
  },
  {
   "cell_type": "code",
   "execution_count": 80,
   "metadata": {},
   "outputs": [
    {
     "data": {
      "text/plain": [
       "[('some', 2), ('as', 1), ('if', 1)]"
      ]
     },
     "execution_count": 80,
     "metadata": {},
     "output_type": "execute_result"
    }
   ],
   "source": [
    "collections.Counter(['some', 'as', 'if', 'some']).most_common() # в most_common(n) n является колличеством элементов"
   ]
  },
  {
   "cell_type": "code",
   "execution_count": 42,
   "metadata": {},
   "outputs": [
    {
     "name": "stdout",
     "output_type": "stream",
     "text": [
      "Counter({'some': 2, 'as': 1, 'if': 1}) Counter({'some': 1})\n",
      "Counter({'some': 1, 'as': 1, 'if': 1})\n"
     ]
    }
   ],
   "source": [
    "c1 = collections.Counter(['some', 'as', 'if', 'some'])\n",
    "c2 = collections.Counter(['some'])\n",
    "\n",
    "print(c1, c2)\n",
    "\n",
    "c1.subtract(c2) # отнимает элементы c2 от c1\n",
    "\n",
    "print(c1)"
   ]
  },
  {
   "cell_type": "code",
   "execution_count": 55,
   "metadata": {},
   "outputs": [
    {
     "name": "stdout",
     "output_type": "stream",
     "text": [
      "deque(['some', 'as', 'if', 'some'], maxlen=9)\n"
     ]
    }
   ],
   "source": [
    "de = collections.deque(['some', 'as', 'if', 'some'], 9) # грубо говоря это как колода из итерируемого обьекта в котором все\n",
    "print(de)                                               # можно менять только с \"верху\" или \"снизу\" колоды"
   ]
  },
  {
   "cell_type": "code",
   "execution_count": 56,
   "metadata": {},
   "outputs": [
    {
     "data": {
      "text/plain": [
       "deque(['hi', 'some', 'as', 'if', 'some'])"
      ]
     },
     "execution_count": 56,
     "metadata": {},
     "output_type": "execute_result"
    }
   ],
   "source": [
    "de.appendleft('hi') # добавляет элемент \"снизу\"\n",
    "de"
   ]
  },
  {
   "cell_type": "code",
   "execution_count": 57,
   "metadata": {},
   "outputs": [
    {
     "name": "stdout",
     "output_type": "stream",
     "text": [
      "deque(['hi', 'some', 'as', 'if', 'some', 'value', 'sosiski'], maxlen=9)\n",
      "deque(['cry', 'so', 'hi', 'some', 'as', 'if', 'some', 'value', 'sosiski'], maxlen=9)\n"
     ]
    }
   ],
   "source": [
    "de.extend(['value', 'sosiski']) # добавляет итер обьект \"сверху\"\n",
    "\n",
    "print(de)\n",
    "\n",
    "de.extendleft(['so', 'cry']) # (pop и popleft) также как и остальные\n",
    "\n",
    "print(de)"
   ]
  },
  {
   "cell_type": "code",
   "execution_count": 58,
   "metadata": {},
   "outputs": [
    {
     "data": {
      "text/plain": [
       "deque(['value', 'sosiski', 'cry', 'so', 'hi', 'some', 'as', 'if', 'some'])"
      ]
     },
     "execution_count": 58,
     "metadata": {},
     "output_type": "execute_result"
    }
   ],
   "source": [
    "de.rotate(2) # перемещает сверху 2 елемента вниз\n",
    "de"
   ]
  },
  {
   "cell_type": "code",
   "execution_count": 59,
   "metadata": {},
   "outputs": [
    {
     "data": {
      "text/plain": [
       "deque(['sosiski', 'cry', 'so', 'hi', 'some', 'as', 'if', 'some', 'lo'])"
      ]
     },
     "execution_count": 59,
     "metadata": {},
     "output_type": "execute_result"
    }
   ],
   "source": [
    "de.append('lo') # если добавить элемент(ы) выше чем maxlen то он(и) удалят столько же элементов снизу\n",
    "de"
   ]
  },
  {
   "cell_type": "code",
   "execution_count": 61,
   "metadata": {
    "scrolled": true
   },
   "outputs": [
    {
     "name": "stdout",
     "output_type": "stream",
     "text": [
      "True\n"
     ]
    }
   ],
   "source": [
    "dic1 = {'Some': 1, 'shit': 2}\n",
    "dic2 = {'shit': 2, 'Some': 1}\n",
    "\n",
    "print(dic1 == dic2) # не учитывается порядок элементов"
   ]
  },
  {
   "cell_type": "code",
   "execution_count": 68,
   "metadata": {},
   "outputs": [
    {
     "name": "stdout",
     "output_type": "stream",
     "text": [
      "False\n",
      "OrderedDict([('shit', 2), ('Some', 1)])\n",
      "OrderedDict([('Some', 1)])\n"
     ]
    }
   ],
   "source": [
    "orddict1 = collections.OrderedDict({'Some': 1, 'shit': 2})\n",
    "orddict2 = collections.OrderedDict({'shit': 2, 'Some': 1})\n",
    "\n",
    "print(orddict1 == orddict2) # учитывается порядок элементов\n",
    "\n",
    "orddict1.move_to_end('Some', last=True) # перемещает элемент в конец\n",
    "\n",
    "print(orddict1)\n",
    "\n",
    "orddict1.popitem(last=False) # удаляет элемент\n",
    "\n",
    "print(orddict1)"
   ]
  },
  {
   "cell_type": "code",
   "execution_count": 86,
   "metadata": {},
   "outputs": [
    {
     "name": "stdout",
     "output_type": "stream",
     "text": [
      "Point(x=12, y=23)\n",
      "\n",
      "12\n",
      "\n",
      "23\n",
      "<class '__main__.Point'> <class 'int'>\n"
     ]
    }
   ],
   "source": [
    "nt = collections.namedtuple('Point', ['x', 'y']) # это типо класса по шаблону которого создается обект\n",
    "\n",
    "dot = nt(12, 23)\n",
    "\n",
    "print(dot, dot.x, dot[1], sep='\\n\\n')"
   ]
  }
 ],
 "metadata": {
  "kernelspec": {
   "display_name": "Python 3",
   "language": "python",
   "name": "python3"
  },
  "language_info": {
   "codemirror_mode": {
    "name": "ipython",
    "version": 3
   },
   "file_extension": ".py",
   "mimetype": "text/x-python",
   "name": "python",
   "nbconvert_exporter": "python",
   "pygments_lexer": "ipython3",
   "version": "3.8.5"
  }
 },
 "nbformat": 4,
 "nbformat_minor": 4
}
