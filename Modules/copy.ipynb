{
 "cells": [
  {
   "cell_type": "code",
   "execution_count": 1,
   "metadata": {},
   "outputs": [],
   "source": [
    "import copy"
   ]
  },
  {
   "cell_type": "code",
   "execution_count": 15,
   "metadata": {},
   "outputs": [
    {
     "name": "stdout",
     "output_type": "stream",
     "text": [
      "[1, 2, [3, 3]]\n",
      "[1, 2, [3, 3]]\n",
      "[1, 2, [3, 3, 4]] [1, 2, [3, 3, 4]]\n",
      "[1, 2, [3, 3]]\n",
      "[1, 2, [3, 3]] [1, 2, [3, 3, 4]]\n"
     ]
    }
   ],
   "source": [
    "s = [1, 2 ,[3, 3]]\n",
    "print(s)\n",
    "s1 = copy.copy(s) # обычная копия, копирует иммено ссылки на все что есть в переданном обьекте\n",
    "print(s1)\n",
    "s1[2].append(4)\n",
    "print(s, s1)\n",
    "s = [1, 2 ,[3, 3]]\n",
    "s2 = copy.deepcopy(s) # копирует полностью все данные, создает новый обьект, а не ссылается на оригинальный\n",
    "print(s2)\n",
    "s2[2].append(4)\n",
    "print(s, s2)"
   ]
  }
 ],
 "metadata": {
  "kernelspec": {
   "display_name": "Python 3",
   "language": "python",
   "name": "python3"
  },
  "language_info": {
   "codemirror_mode": {
    "name": "ipython",
    "version": 3
   },
   "file_extension": ".py",
   "mimetype": "text/x-python",
   "name": "python",
   "nbconvert_exporter": "python",
   "pygments_lexer": "ipython3",
   "version": "3.8.5"
  }
 },
 "nbformat": 4,
 "nbformat_minor": 4
}
