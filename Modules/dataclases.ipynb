{
 "cells": [
  {
   "cell_type": "code",
   "execution_count": 1,
   "metadata": {},
   "outputs": [],
   "source": [
    "import dataclasses"
   ]
  },
  {
   "cell_type": "code",
   "execution_count": 25,
   "metadata": {},
   "outputs": [
    {
     "name": "stdout",
     "output_type": "stream",
     "text": [
      "Alex 21\n"
     ]
    }
   ],
   "source": [
    "@dataclasses.dataclass() # (init=True, repr=True, eq=True, order=False, frozen=False) dataclass нужен для создания класса только\n",
    "class me:                                                                           # с переменными хранящими данные (типо БД)\n",
    "    name: str\n",
    "    age: int\n",
    "    \n",
    "    def __post_init__(self): # можно переопределять init\n",
    "        print(self.name, self.age)\n",
    "        \n",
    "s = me('Alex', \"21\")"
   ]
  },
  {
   "cell_type": "code",
   "execution_count": 21,
   "metadata": {},
   "outputs": [
    {
     "name": "stdout",
     "output_type": "stream",
     "text": [
      "point(name='Alex', age=21)\n",
      "<class 'types.point'>\n",
      "Alex\n",
      "True\n"
     ]
    }
   ],
   "source": [
    "point = dataclasses.make_dataclass(\"point\", ['name', 'age']) # второй способ создания dataclass\n",
    "f = point('Alex', 21)\n",
    "print(f)\n",
    "print(type(f))\n",
    "print(f.name)\n",
    "print(isinstance(f, point))"
   ]
  }
 ],
 "metadata": {
  "kernelspec": {
   "display_name": "Python 3",
   "language": "python",
   "name": "python3"
  },
  "language_info": {
   "codemirror_mode": {
    "name": "ipython",
    "version": 3
   },
   "file_extension": ".py",
   "mimetype": "text/x-python",
   "name": "python",
   "nbconvert_exporter": "python",
   "pygments_lexer": "ipython3",
   "version": "3.8.5"
  }
 },
 "nbformat": 4,
 "nbformat_minor": 4
}
