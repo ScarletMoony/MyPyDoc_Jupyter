{
 "cells": [
  {
   "cell_type": "code",
   "execution_count": 43,
   "metadata": {},
   "outputs": [],
   "source": [
    "import functools"
   ]
  },
  {
   "cell_type": "code",
   "execution_count": 55,
   "metadata": {},
   "outputs": [
    {
     "name": "stdout",
     "output_type": "stream",
     "text": [
      "280571172992510140037611932413038677189525\n",
      "CacheInfo(hits=198, misses=201, maxsize=None, currsize=201)\n"
     ]
    }
   ],
   "source": [
    "@functools.lru_cache(maxsize=None, typed=False) # ускоряет исполнение больших функций, typed разделяет все значения по типам\n",
    "def fib(n):                                                                      # как 3 и 3.0 бубут в разных ячейках памяти\n",
    "     if n < 2:\n",
    "        return n\n",
    "     return fib(n-1) + fib(n-2)\n",
    "print(fib(200))\n",
    "print(fib.cache_info())"
   ]
  },
  {
   "cell_type": "code",
   "execution_count": null,
   "metadata": {},
   "outputs": [],
   "source": [
    "@functools.total_ordering # применяет к классу все знаки сравнения но нужно измнить __lt__ и __eq__ обязательно"
   ]
  },
  {
   "cell_type": "code",
   "execution_count": 75,
   "metadata": {},
   "outputs": [
    {
     "name": "stdout",
     "output_type": "stream",
     "text": [
      "15\n",
      "-1 0\n"
     ]
    }
   ],
   "source": [
    "s = functools.partial(int, base=2)\n",
    "print(s('1111'))\n",
    "\n",
    "def minus(x, y):\n",
    "    return x - y\n",
    "\n",
    "so = functools.partial(minus, 2) # это чтото типо статического значения для новой функции\n",
    "print(so(3), so(2))"
   ]
  },
  {
   "cell_type": "code",
   "execution_count": 78,
   "metadata": {},
   "outputs": [
    {
     "name": "stdout",
     "output_type": "stream",
     "text": [
      "2\n"
     ]
    }
   ],
   "source": [
    "print(functools.reduce(minus, [15, 1, 2, 2, 3, 5])) # уменшает количество элементов до определенного значения переданной функ"
   ]
  },
  {
   "cell_type": "code",
   "execution_count": 85,
   "metadata": {},
   "outputs": [
    {
     "name": "stdout",
     "output_type": "stream",
     "text": [
      "Calling\n",
      "hi\n",
      "Ended\n",
      "Help on function wrap in module __main__:\n",
      "\n",
      "wrap()\n",
      "\n"
     ]
    }
   ],
   "source": [
    "def deco(func):\n",
    "    def wrap():\n",
    "        print('Calling')\n",
    "        func()\n",
    "        print('Ended')\n",
    "    return wrap\n",
    "\n",
    "@deco\n",
    "def hi():\n",
    "    print('hi')\n",
    "    \n",
    "hi()\n",
    "\n",
    "help(hi)"
   ]
  },
  {
   "cell_type": "code",
   "execution_count": 86,
   "metadata": {},
   "outputs": [
    {
     "name": "stdout",
     "output_type": "stream",
     "text": [
      "Calling\n",
      "hi\n",
      "Ended\n",
      "Help on function hi in module __main__:\n",
      "\n",
      "hi()\n",
      "\n"
     ]
    }
   ],
   "source": [
    "def deco(func):\n",
    "    @functools.wraps(func) # благодаря этому мы будем обращатся непосредственно к функии а не к декоратору\n",
    "    def wrap(*args, **kvargs):\n",
    "        print('Calling')\n",
    "        func(*args, **kvargs)\n",
    "        print('Ended')\n",
    "    return wrap\n",
    "\n",
    "@deco\n",
    "def hi():\n",
    "    print('hi')\n",
    "    \n",
    "hi()\n",
    "\n",
    "help(hi)"
   ]
  }
 ],
 "metadata": {
  "kernelspec": {
   "display_name": "Python 3",
   "language": "python",
   "name": "python3"
  },
  "language_info": {
   "codemirror_mode": {
    "name": "ipython",
    "version": 3
   },
   "file_extension": ".py",
   "mimetype": "text/x-python",
   "name": "python",
   "nbconvert_exporter": "python",
   "pygments_lexer": "ipython3",
   "version": "3.8.5"
  }
 },
 "nbformat": 4,
 "nbformat_minor": 4
}
