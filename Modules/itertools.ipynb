{
 "cells": [
  {
   "cell_type": "code",
   "execution_count": 1,
   "metadata": {},
   "outputs": [],
   "source": [
    "import itertools"
   ]
  },
  {
   "cell_type": "code",
   "execution_count": 15,
   "metadata": {},
   "outputs": [
    {
     "name": "stdout",
     "output_type": "stream",
     "text": [
      "[1, 3, 5, 7, 9, 11, 13, 15, 17, 19]\n"
     ]
    }
   ],
   "source": [
    "x = []\n",
    "for i in itertools.count(1, 2): # бесконечная последовательность начиная с start= и с шагом step\n",
    "    if len(x) >= 10:\n",
    "        break\n",
    "    x.append(i)\n",
    "\n",
    "print(x)"
   ]
  },
  {
   "cell_type": "code",
   "execution_count": 31,
   "metadata": {},
   "outputs": [
    {
     "name": "stdout",
     "output_type": "stream",
     "text": [
      "1\n",
      "3\n",
      "5\n",
      "7\n"
     ]
    }
   ],
   "source": [
    "some = itertools.cycle(x) # проходится по бесконечной последовательности\n",
    "\n",
    "print(next(some))\n",
    "print(next(some))\n",
    "print(next(some))\n",
    "print(next(some))"
   ]
  },
  {
   "cell_type": "code",
   "execution_count": 34,
   "metadata": {},
   "outputs": [
    {
     "name": "stdout",
     "output_type": "stream",
     "text": [
      "1\n",
      "1\n",
      "1\n",
      "1\n",
      "1\n",
      "1\n",
      "1\n",
      "1\n",
      "1\n",
      "1\n"
     ]
    }
   ],
   "source": [
    "for i in itertools.repeat(1, 10): # повторить (x) y раз\n",
    "    print(i)"
   ]
  },
  {
   "cell_type": "code",
   "execution_count": 37,
   "metadata": {},
   "outputs": [
    {
     "name": "stdout",
     "output_type": "stream",
     "text": [
      "[1, 3, 5, 7, 9, 11, 13, 15, 17, 19]\n",
      "[1, 4, 9, 16, 25, 36, 49, 64, 81, 100]\n"
     ]
    }
   ],
   "source": [
    "print(x)\n",
    "print(list(itertools.accumulate(x))) # см в выводе"
   ]
  },
  {
   "cell_type": "code",
   "execution_count": 38,
   "metadata": {},
   "outputs": [
    {
     "name": "stdout",
     "output_type": "stream",
     "text": [
      "[1, 3, 5, 7, 9, 11, 13, 15, 17, 19, 1, 3, 5, 7, 9, 11, 13, 15, 17, 19, 1, 3, 5, 7, 9, 11, 13, 15, 17, 19]\n"
     ]
    }
   ],
   "source": [
    "print(list(itertools.chain(x, x, x))) # несколько итераторов в один"
   ]
  },
  {
   "cell_type": "code",
   "execution_count": 41,
   "metadata": {},
   "outputs": [
    {
     "name": "stdout",
     "output_type": "stream",
     "text": [
      "[('H', 'E'), ('H', 'L'), ('H', 'L'), ('H', 'O'), ('E', 'L'), ('E', 'L'), ('E', 'O'), ('L', 'L'), ('L', 'O'), ('L', 'O')]\n"
     ]
    }
   ],
   "source": [
    "print(list(itertools.combinations(\"HELLO\", 2))) # комбинации элементов длинной в (y)"
   ]
  },
  {
   "cell_type": "code",
   "execution_count": 42,
   "metadata": {},
   "outputs": [
    {
     "name": "stdout",
     "output_type": "stream",
     "text": [
      "[('H', 'H'), ('H', 'E'), ('H', 'L'), ('H', 'L'), ('H', 'O'), ('E', 'E'), ('E', 'L'), ('E', 'L'), ('E', 'O'), ('L', 'L'), ('L', 'L'), ('L', 'O'), ('L', 'L'), ('L', 'O'), ('O', 'O')]\n"
     ]
    }
   ],
   "source": [
    "print(list(itertools.combinations_with_replacement(\"HELLO\", 2))) # тоже что и предидущее но с повторяющимися элементами "
   ]
  },
  {
   "cell_type": "code",
   "execution_count": 47,
   "metadata": {},
   "outputs": [
    {
     "name": "stdout",
     "output_type": "stream",
     "text": [
      "['H', 'L', 'L']\n"
     ]
    }
   ],
   "source": [
    "print(list(itertools.compress(\"HELLO\", [1, 0, 1, 1, 0]))) # добавляет элемент в список если в (y) он True"
   ]
  },
  {
   "cell_type": "code",
   "execution_count": 48,
   "metadata": {},
   "outputs": [
    {
     "name": "stdout",
     "output_type": "stream",
     "text": [
      "['L', 'L', 'O']\n"
     ]
    }
   ],
   "source": [
    "def s(l):\n",
    "    if l == 'L':\n",
    "        return False\n",
    "    return True\n",
    "\n",
    "print(list(itertools.dropwhile(s, \"HELLO\"))) # выводит все посе того как функция вернет false"
   ]
  },
  {
   "cell_type": "code",
   "execution_count": 49,
   "metadata": {},
   "outputs": [
    {
     "name": "stdout",
     "output_type": "stream",
     "text": [
      "['L', 'L']\n"
     ]
    }
   ],
   "source": [
    "print(list(itertools.filterfalse(s, \"HELLO\"))) # возвращает только false"
   ]
  },
  {
   "cell_type": "code",
   "execution_count": 86,
   "metadata": {},
   "outputs": [
    {
     "name": "stdout",
     "output_type": "stream",
     "text": [
      "Kiyiv\n",
      "{'selo': 'hora', 'gorod': 'Kiyiv'}\n",
      "{'selo': 'hrom', 'gorod': 'Kiyiv'}\n",
      "Lviv\n",
      "{'selo': 'gorli', 'gorod': 'Lviv'}\n"
     ]
    }
   ],
   "source": [
    "kvit = [{\"selo\": \"hora\", \"gorod\": \"Kiyiv\"},\n",
    "        {\"selo\": \"gorli\", \"gorod\": \"Lviv\"},\n",
    "        {\"selo\": \"hrom\", \"gorod\": \"Kiyiv\"},\n",
    "       ]\n",
    "\n",
    "def grouper(item):\n",
    "    return item[\"gorod\"]\n",
    "\n",
    "kvit = sorted(kvit, key=grouper)\n",
    "\n",
    "for k, g in itertools.groupby(kvit, grouper): # групирует список применяя функцию к каждому элементу\n",
    "    print((k))\n",
    "    for l in g:\n",
    "        print(l)"
   ]
  },
  {
   "cell_type": "code",
   "execution_count": 91,
   "metadata": {},
   "outputs": [
    {
     "name": "stdout",
     "output_type": "stream",
     "text": [
      "['H', 'E']\n",
      "['L', 'L']\n"
     ]
    }
   ],
   "source": [
    "print(list(itertools.islice(\"HELLO\", 2)))\n",
    "print(list(itertools.islice(\"HELLO\", 2, 4))) # срез элементов итератора"
   ]
  },
  {
   "cell_type": "code",
   "execution_count": 101,
   "metadata": {},
   "outputs": [
    {
     "name": "stdout",
     "output_type": "stream",
     "text": [
      "[('h', 'e', 'l', 'l', 'o'), ('h', 'e', 'l', 'o', 'l'), ('h', 'e', 'l', 'l', 'o'), ('h', 'e', 'l', 'o', 'l'), ('h', 'e', 'o', 'l', 'l'), ('h', 'e', 'o', 'l', 'l'), ('h', 'l', 'e', 'l', 'o'), ('h', 'l', 'e', 'o', 'l'), ('h', 'l', 'l', 'e', 'o'), ('h', 'l', 'l', 'o', 'e'), ('h', 'l', 'o', 'e', 'l'), ('h', 'l', 'o', 'l', 'e'), ('h', 'l', 'e', 'l', 'o'), ('h', 'l', 'e', 'o', 'l'), ('h', 'l', 'l', 'e', 'o'), ('h', 'l', 'l', 'o', 'e'), ('h', 'l', 'o', 'e', 'l'), ('h', 'l', 'o', 'l', 'e'), ('h', 'o', 'e', 'l', 'l'), ('h', 'o', 'e', 'l', 'l'), ('h', 'o', 'l', 'e', 'l'), ('h', 'o', 'l', 'l', 'e'), ('h', 'o', 'l', 'e', 'l'), ('h', 'o', 'l', 'l', 'e'), ('e', 'h', 'l', 'l', 'o'), ('e', 'h', 'l', 'o', 'l'), ('e', 'h', 'l', 'l', 'o'), ('e', 'h', 'l', 'o', 'l'), ('e', 'h', 'o', 'l', 'l'), ('e', 'h', 'o', 'l', 'l'), ('e', 'l', 'h', 'l', 'o'), ('e', 'l', 'h', 'o', 'l'), ('e', 'l', 'l', 'h', 'o'), ('e', 'l', 'l', 'o', 'h'), ('e', 'l', 'o', 'h', 'l'), ('e', 'l', 'o', 'l', 'h'), ('e', 'l', 'h', 'l', 'o'), ('e', 'l', 'h', 'o', 'l'), ('e', 'l', 'l', 'h', 'o'), ('e', 'l', 'l', 'o', 'h'), ('e', 'l', 'o', 'h', 'l'), ('e', 'l', 'o', 'l', 'h'), ('e', 'o', 'h', 'l', 'l'), ('e', 'o', 'h', 'l', 'l'), ('e', 'o', 'l', 'h', 'l'), ('e', 'o', 'l', 'l', 'h'), ('e', 'o', 'l', 'h', 'l'), ('e', 'o', 'l', 'l', 'h'), ('l', 'h', 'e', 'l', 'o'), ('l', 'h', 'e', 'o', 'l'), ('l', 'h', 'l', 'e', 'o'), ('l', 'h', 'l', 'o', 'e'), ('l', 'h', 'o', 'e', 'l'), ('l', 'h', 'o', 'l', 'e'), ('l', 'e', 'h', 'l', 'o'), ('l', 'e', 'h', 'o', 'l'), ('l', 'e', 'l', 'h', 'o'), ('l', 'e', 'l', 'o', 'h'), ('l', 'e', 'o', 'h', 'l'), ('l', 'e', 'o', 'l', 'h'), ('l', 'l', 'h', 'e', 'o'), ('l', 'l', 'h', 'o', 'e'), ('l', 'l', 'e', 'h', 'o'), ('l', 'l', 'e', 'o', 'h'), ('l', 'l', 'o', 'h', 'e'), ('l', 'l', 'o', 'e', 'h'), ('l', 'o', 'h', 'e', 'l'), ('l', 'o', 'h', 'l', 'e'), ('l', 'o', 'e', 'h', 'l'), ('l', 'o', 'e', 'l', 'h'), ('l', 'o', 'l', 'h', 'e'), ('l', 'o', 'l', 'e', 'h'), ('l', 'h', 'e', 'l', 'o'), ('l', 'h', 'e', 'o', 'l'), ('l', 'h', 'l', 'e', 'o'), ('l', 'h', 'l', 'o', 'e'), ('l', 'h', 'o', 'e', 'l'), ('l', 'h', 'o', 'l', 'e'), ('l', 'e', 'h', 'l', 'o'), ('l', 'e', 'h', 'o', 'l'), ('l', 'e', 'l', 'h', 'o'), ('l', 'e', 'l', 'o', 'h'), ('l', 'e', 'o', 'h', 'l'), ('l', 'e', 'o', 'l', 'h'), ('l', 'l', 'h', 'e', 'o'), ('l', 'l', 'h', 'o', 'e'), ('l', 'l', 'e', 'h', 'o'), ('l', 'l', 'e', 'o', 'h'), ('l', 'l', 'o', 'h', 'e'), ('l', 'l', 'o', 'e', 'h'), ('l', 'o', 'h', 'e', 'l'), ('l', 'o', 'h', 'l', 'e'), ('l', 'o', 'e', 'h', 'l'), ('l', 'o', 'e', 'l', 'h'), ('l', 'o', 'l', 'h', 'e'), ('l', 'o', 'l', 'e', 'h'), ('o', 'h', 'e', 'l', 'l'), ('o', 'h', 'e', 'l', 'l'), ('o', 'h', 'l', 'e', 'l'), ('o', 'h', 'l', 'l', 'e'), ('o', 'h', 'l', 'e', 'l'), ('o', 'h', 'l', 'l', 'e'), ('o', 'e', 'h', 'l', 'l'), ('o', 'e', 'h', 'l', 'l'), ('o', 'e', 'l', 'h', 'l'), ('o', 'e', 'l', 'l', 'h'), ('o', 'e', 'l', 'h', 'l'), ('o', 'e', 'l', 'l', 'h'), ('o', 'l', 'h', 'e', 'l'), ('o', 'l', 'h', 'l', 'e'), ('o', 'l', 'e', 'h', 'l'), ('o', 'l', 'e', 'l', 'h'), ('o', 'l', 'l', 'h', 'e'), ('o', 'l', 'l', 'e', 'h'), ('o', 'l', 'h', 'e', 'l'), ('o', 'l', 'h', 'l', 'e'), ('o', 'l', 'e', 'h', 'l'), ('o', 'l', 'e', 'l', 'h'), ('o', 'l', 'l', 'h', 'e'), ('o', 'l', 'l', 'e', 'h')]\n",
      "\n",
      "[('h', 'e', 'l'), ('h', 'e', 'l'), ('h', 'e', 'o'), ('h', 'l', 'e'), ('h', 'l', 'l'), ('h', 'l', 'o'), ('h', 'l', 'e'), ('h', 'l', 'l'), ('h', 'l', 'o'), ('h', 'o', 'e'), ('h', 'o', 'l'), ('h', 'o', 'l'), ('e', 'h', 'l'), ('e', 'h', 'l'), ('e', 'h', 'o'), ('e', 'l', 'h'), ('e', 'l', 'l'), ('e', 'l', 'o'), ('e', 'l', 'h'), ('e', 'l', 'l'), ('e', 'l', 'o'), ('e', 'o', 'h'), ('e', 'o', 'l'), ('e', 'o', 'l'), ('l', 'h', 'e'), ('l', 'h', 'l'), ('l', 'h', 'o'), ('l', 'e', 'h'), ('l', 'e', 'l'), ('l', 'e', 'o'), ('l', 'l', 'h'), ('l', 'l', 'e'), ('l', 'l', 'o'), ('l', 'o', 'h'), ('l', 'o', 'e'), ('l', 'o', 'l'), ('l', 'h', 'e'), ('l', 'h', 'l'), ('l', 'h', 'o'), ('l', 'e', 'h'), ('l', 'e', 'l'), ('l', 'e', 'o'), ('l', 'l', 'h'), ('l', 'l', 'e'), ('l', 'l', 'o'), ('l', 'o', 'h'), ('l', 'o', 'e'), ('l', 'o', 'l'), ('o', 'h', 'e'), ('o', 'h', 'l'), ('o', 'h', 'l'), ('o', 'e', 'h'), ('o', 'e', 'l'), ('o', 'e', 'l'), ('o', 'l', 'h'), ('o', 'l', 'e'), ('o', 'l', 'l'), ('o', 'l', 'h'), ('o', 'l', 'e'), ('o', 'l', 'l')]\n"
     ]
    }
   ],
   "source": [
    "print(list(itertools.permutations('hello'))) # все сочитания элементов в разном порядке\n",
    "print()\n",
    "print(list(itertools.permutations('hello', 3)))"
   ]
  },
  {
   "cell_type": "code",
   "execution_count": 109,
   "metadata": {},
   "outputs": [
    {
     "name": "stdout",
     "output_type": "stream",
     "text": [
      "[('h', 'x', 'f'), ('h', 'x', 'i'), ('h', 'y', 'f'), ('h', 'y', 'i'), ('e', 'x', 'f'), ('e', 'x', 'i'), ('e', 'y', 'f'), ('e', 'y', 'i'), ('l', 'x', 'f'), ('l', 'x', 'i'), ('l', 'y', 'f'), ('l', 'y', 'i'), ('l', 'x', 'f'), ('l', 'x', 'i'), ('l', 'y', 'f'), ('l', 'y', 'i'), ('o', 'x', 'f'), ('o', 'x', 'i'), ('o', 'y', 'f'), ('o', 'y', 'i')]\n",
      "\n",
      "[('x', 'x', 'x'), ('x', 'x', 'y'), ('x', 'y', 'x'), ('x', 'y', 'y'), ('y', 'x', 'x'), ('y', 'x', 'y'), ('y', 'y', 'x'), ('y', 'y', 'y')]\n"
     ]
    }
   ],
   "source": [
    "print(list(itertools.product(\"hello\", \"xy\", \"fi\", repeat=1)))\n",
    "print()\n",
    "print(list(itertools.product(\"xy\", repeat=3))) # обьеденение элементов в циклы"
   ]
  },
  {
   "cell_type": "code",
   "execution_count": 115,
   "metadata": {},
   "outputs": [
    {
     "name": "stdout",
     "output_type": "stream",
     "text": [
      "[8, 12]\n"
     ]
    }
   ],
   "source": [
    "def multiply(x, y):\n",
    "    return x*y\n",
    "\n",
    "print(list(itertools.starmap(multiply, [(4, 2), (3, 4)]))) # применяет функцию к элементам списка"
   ]
  },
  {
   "cell_type": "code",
   "execution_count": 116,
   "metadata": {},
   "outputs": [
    {
     "name": "stdout",
     "output_type": "stream",
     "text": [
      "['H', 'E']\n"
     ]
    }
   ],
   "source": [
    "print(list(itertools.takewhile(s, \"HELLO\"))) # возвращает все до False"
   ]
  },
  {
   "cell_type": "code",
   "execution_count": 140,
   "metadata": {},
   "outputs": [
    {
     "name": "stdout",
     "output_type": "stream",
     "text": [
      "[1, 3, 5, 7, 9, 11, 13, 15, 17, 19]\n",
      "[1, 3, 5, 7, 9, 11, 13, 15, 17, 19]\n",
      "[1, 3, 5, 7, 9, 11, 13, 15, 17, 19]\n"
     ]
    }
   ],
   "source": [
    "print(x)\n",
    "# print(list(itertools.tee(x, 3)))\n",
    "for i in itertools.tee(x): # кортеж из клонированых списков(работает коряво)\n",
    "    print(list(i))"
   ]
  },
  {
   "cell_type": "code",
   "execution_count": 142,
   "metadata": {},
   "outputs": [
    {
     "name": "stdout",
     "output_type": "stream",
     "text": [
      "[('H', 'x'), ('E', 'y'), ('L', 'Void'), ('L', 'Void'), ('O', 'Void')]\n"
     ]
    }
   ],
   "source": [
    "print(list(itertools.zip_longest(\"HELLO\", \"xy\", fillvalue=\"Void\"))) # обьеденяет списки, элементы без пары заполняются fillvalue"
   ]
  }
 ],
 "metadata": {
  "kernelspec": {
   "display_name": "Python 3",
   "language": "python",
   "name": "python3"
  },
  "language_info": {
   "codemirror_mode": {
    "name": "ipython",
    "version": 3
   },
   "file_extension": ".py",
   "mimetype": "text/x-python",
   "name": "python",
   "nbconvert_exporter": "python",
   "pygments_lexer": "ipython3",
   "version": "3.8.5"
  }
 },
 "nbformat": 4,
 "nbformat_minor": 4
}
